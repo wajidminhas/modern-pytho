{
 "cells": [
  {
   "cell_type": "code",
   "execution_count": 5,
   "metadata": {},
   "outputs": [
    {
     "name": "stdout",
     "output_type": "stream",
     "text": [
      "i love to drive on CAR\n",
      "i love to travel on bike\n",
      "i love to travel on bus\n",
      "i love to travel on train\n",
      "i love to travel on plane\n"
     ]
    }
   ],
   "source": [
    "vehicle :list = [\"car\", \"bike\", \"bus\", \"train\", \"plane\"]\n",
    "\n",
    "\n",
    "for i in vehicle:\n",
    "    if i == \"car\":\n",
    "        print(\"i love to drive on \" + i.upper())\n",
    "    else:\n",
    "        print(f\"i love to travel on {i}\")"
   ]
  },
  {
   "cell_type": "code",
   "execution_count": 16,
   "metadata": {},
   "outputs": [
    {
     "name": "stdout",
     "output_type": "stream",
     "text": [
      "i love to eat apple\n"
     ]
    }
   ],
   "source": [
    "fruit = \"Mango\"\n",
    "\n",
    "if fruit != \"apple\":\n",
    "    print(\"i love to eat apple\")\n",
    "else:\n",
    "    print(\"i love mango\")"
   ]
  }
 ],
 "metadata": {
  "kernelspec": {
   "display_name": "Python 3",
   "language": "python",
   "name": "python3"
  },
  "language_info": {
   "codemirror_mode": {
    "name": "ipython",
    "version": 3
   },
   "file_extension": ".py",
   "mimetype": "text/x-python",
   "name": "python",
   "nbconvert_exporter": "python",
   "pygments_lexer": "ipython3",
   "version": "3.10.12"
  }
 },
 "nbformat": 4,
 "nbformat_minor": 2
}
