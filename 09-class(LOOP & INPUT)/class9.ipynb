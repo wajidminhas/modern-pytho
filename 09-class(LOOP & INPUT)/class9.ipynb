{
 "cells": [
  {
   "cell_type": "markdown",
   "metadata": {},
   "source": [
    "# Loops and input "
   ]
  },
  {
   "cell_type": "code",
   "execution_count": 2,
   "metadata": {},
   "outputs": [
    {
     "name": "stdout",
     "output_type": "stream",
     "text": [
      "Name :  abc\n",
      "Name :  bcd\n",
      "Name :  def\n",
      "Name :  fgh\n",
      "Name :  ghi\n"
     ]
    }
   ],
   "source": [
    "name : list[str] = [\"abc\", \"bcd\", \"def\", \"fgh\", \"ghi\"]\n",
    "\n",
    "for i in name:\n",
    "    print(\"Name : \", i)"
   ]
  },
  {
   "cell_type": "code",
   "execution_count": 3,
   "metadata": {},
   "outputs": [
    {
     "name": "stdout",
     "output_type": "stream",
     "text": [
      "Name :  abc\n",
      "Name :  bcd\n",
      "Name :  def\n",
      "Name :  fgh\n",
      "Name :  ghi\n"
     ]
    }
   ],
   "source": [
    "# ITERRATION ON TUPLE DATA TYPE:\n",
    "\n",
    "name_tup: tuple[str] = (\"abc\", \"bcd\", \"def\", \"fgh\", \"ghi\")\n",
    "\n",
    "for i in name_tup:\n",
    "    print(f\"Name : \", i)\n"
   ]
  }
 ],
 "metadata": {
  "kernelspec": {
   "display_name": "mine",
   "language": "python",
   "name": "python3"
  },
  "language_info": {
   "codemirror_mode": {
    "name": "ipython",
    "version": 3
   },
   "file_extension": ".py",
   "mimetype": "text/x-python",
   "name": "python",
   "nbconvert_exporter": "python",
   "pygments_lexer": "ipython3",
   "version": "3.12.1"
  }
 },
 "nbformat": 4,
 "nbformat_minor": 2
}
