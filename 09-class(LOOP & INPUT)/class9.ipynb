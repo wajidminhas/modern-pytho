{
 "cells": [
  {
   "cell_type": "markdown",
   "metadata": {},
   "source": [
    "# Loops and input "
   ]
  },
  {
   "cell_type": "code",
   "execution_count": 2,
   "metadata": {},
   "outputs": [
    {
     "name": "stdout",
     "output_type": "stream",
     "text": [
      "Name :  abc\n",
      "Name :  bcd\n",
      "Name :  def\n",
      "Name :  fgh\n",
      "Name :  ghi\n"
     ]
    }
   ],
   "source": [
    "name : list[str] = [\"abc\", \"bcd\", \"def\", \"fgh\", \"ghi\"]\n",
    "\n",
    "for i in name:\n",
    "    print(\"Name : \", i)"
   ]
  },
  {
   "cell_type": "code",
   "execution_count": 3,
   "metadata": {},
   "outputs": [
    {
     "name": "stdout",
     "output_type": "stream",
     "text": [
      "Name :  abc\n",
      "Name :  bcd\n",
      "Name :  def\n",
      "Name :  fgh\n",
      "Name :  ghi\n"
     ]
    }
   ],
   "source": [
    "# ITERRATION ON TUPLE DATA TYPE:\n",
    "\n",
    "name_tup: tuple[str] = (\"abc\", \"bcd\", \"def\", \"fgh\", \"ghi\")\n",
    "\n",
    "for i in name_tup:\n",
    "    print(f\"Name : \", i)\n"
   ]
  },
  {
   "cell_type": "code",
   "execution_count": 4,
   "metadata": {},
   "outputs": [
    {
     "name": "stdout",
     "output_type": "stream",
     "text": [
      "character : P\n",
      "character : A\n",
      "character : K\n",
      "character : I\n",
      "character : S\n",
      "character : T\n",
      "character : A\n",
      "character : N\n"
     ]
    }
   ],
   "source": [
    "# ITERATION ON STRING :\n",
    "\n",
    "pak = \"PAKISTAN\"\n",
    "\n",
    "for s in pak:\n",
    "    print(f\"character : {s}\")"
   ]
  },
  {
   "cell_type": "code",
   "execution_count": 9,
   "metadata": {},
   "outputs": [
    {
     "name": "stdout",
     "output_type": "stream",
     "text": [
      "fname : wajid\n",
      "lname : shabbir\n"
     ]
    }
   ],
   "source": [
    "# ITERARTION ON DICTIONARY:\n",
    "\n",
    "bio_graphy :dict[str, str] = {\"fname\": \"wajid\", \"lname\":\"shabbir\"}\n",
    "\n",
    "for k in bio_graphy:\n",
    "    print(f\"{k} : {bio_graphy[k]}\")"
   ]
  },
  {
   "cell_type": "markdown",
   "metadata": {},
   "source": [
    "# input from user\n",
    "* input function\n",
    "    * defualt type = string\n",
    "* sys.argv (for console input in abc.py file)\n",
    "    * defualt type = str"
   ]
  },
  {
   "cell_type": "code",
   "execution_count": 11,
   "metadata": {},
   "outputs": [
    {
     "name": "stdout",
     "output_type": "stream",
     "text": [
      "<class 'str'>\n",
      "Welcome to PIAIC Mr/Miss wajid shabbir \n"
     ]
    }
   ],
   "source": [
    "name : str = input(\"Enter you name \\t\")\n",
    "\n",
    "print(type(name))\n",
    "\n",
    "print(f\"Welcome to PIAIC Mr/Miss {name} \")"
   ]
  },
  {
   "cell_type": "markdown",
   "metadata": {},
   "source": [
    "# ZIP FUNCTION "
   ]
  },
  {
   "cell_type": "code",
   "execution_count": 2,
   "metadata": {},
   "outputs": [
    {
     "name": "stdout",
     "output_type": "stream",
     "text": [
      "Hi Mr a check your email and verified\n",
      "Hi Mr b check your email and verified\n",
      "Hi Mr c check your email and verified\n",
      "Hi Mr d check your email and verified\n"
     ]
    }
   ],
   "source": [
    "name = [\"a\", \"b\", \"c\", \"d\"]\n",
    "fname = [\"e\", \"f\", \"g\", \"h\"]\n",
    "age = [1,2,3,4]\n",
    "\n",
    "for n, fn, a in zip(name, fname, age):\n",
    "    print(f\"Hi Mr {n} check your email and verified\")"
   ]
  },
  {
   "cell_type": "code",
   "execution_count": 6,
   "metadata": {},
   "outputs": [
    {
     "name": "stdout",
     "output_type": "stream",
     "text": [
      "Hi Mr/Miss waj verification code sent on you email waji@test.com\n",
      "code is not valid\n"
     ]
    }
   ],
   "source": [
    "name : str = input(\"Enter your name\")\n",
    "email: str = input(\"Enter email address\")\n",
    "add : str = \"chotala jhelum\"\n",
    "code : str = input(\"Enter code\")\n",
    "verification_code = \"123\"\n",
    "\n",
    "print(f\"Hi Mr/Miss {name} verification code sent on you email {email}\")\n",
    "if  code == verification_code:\n",
    "    print(add)\n",
    "else:\n",
    "    print(\"code is not valid\")\n"
   ]
  }
 ],
 "metadata": {
  "kernelspec": {
   "display_name": "mine",
   "language": "python",
   "name": "python3"
  },
  "language_info": {
   "codemirror_mode": {
    "name": "ipython",
    "version": 3
   },
   "file_extension": ".py",
   "mimetype": "text/x-python",
   "name": "python",
   "nbconvert_exporter": "python",
   "pygments_lexer": "ipython3",
   "version": "3.12.1"
  }
 },
 "nbformat": 4,
 "nbformat_minor": 2
}
