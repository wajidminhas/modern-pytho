{
 "cells": [
  {
   "cell_type": "markdown",
   "metadata": {},
   "source": [
    "Restaurant: Make a class called Restaurant. The __init__() method for\n",
    "Restaurant should store two attributes: a restaurant_name and a cuisine_type.\n",
    "Make a method called describe_restaurant() that prints these two pieces of\n",
    "information, and a method called open_restaurant() that prints a message indi-\n",
    "cating that the restaurant is open.\n",
    "Make an instance called restaurant"
   ]
  },
  {
   "cell_type": "code",
   "execution_count": 3,
   "metadata": {},
   "outputs": [
    {
     "name": "stdout",
     "output_type": "stream",
     "text": [
      "0\n",
      "The Python Polls serves wonderful Indian food.\n",
      "15\n",
      "25\n"
     ]
    }
   ],
   "source": [
    "class Restuarant:\n",
    "    def __init__(self, name, cuisine):\n",
    "        self.name = name\n",
    "        self.cuisine = cuisine\n",
    "        self.number_served = 0\n",
    "\n",
    "    def describe_restaurant(self):\n",
    "        print(f\"{self.name} serves wonderful {self.cuisine} food.\")\n",
    "\n",
    "    def open_restaurant(self):\n",
    "        print(f\"{self.name} is open. Come on in!\")\n",
    "\n",
    "    def set_number_served(self, number_served):\n",
    "        self.number_served = number_served\n",
    "\n",
    "    def increment_number_served(self, number_served):\n",
    "        self.number_served += number_served\n",
    "\n",
    "new_restaurant = Restuarant('The Python Polls', 'Indian')\n",
    "\n",
    "print(new_restaurant.number_served)\n",
    "new_restaurant.describe_restaurant()\n",
    "\n",
    "new_restaurant.set_number_served(15)\n",
    "print(new_restaurant.number_served)\n",
    "\n",
    "new_restaurant.increment_number_served(10)\n",
    "print(new_restaurant.number_served)"
   ]
  },
  {
   "cell_type": "code",
   "execution_count": 16,
   "metadata": {},
   "outputs": [],
   "source": [
    "class Car:\n",
    "    def __init__(self, make : str, model : str, year : int):\n",
    "\n",
    "        self.make = make\n",
    "        self.model = model\n",
    "        self.year = year\n",
    "        self.odometer_reading = 0\n",
    "\n",
    "\n",
    "    def get_descriptive_name(self):   # create instance of class car\n",
    "        long_name = f\"{self.year} {self.make} {self.model}\"\n",
    "        return long_name.title()\n",
    "    \n",
    "    def read_odometer(self):\n",
    "        print(f\"This car has {self.odometer_reading} miles on it.\")\n",
    "\n",
    "    \n",
    "\n",
    "    def update_odometer(self, mileage):\n",
    "        if mileage >= self.odometer_reading:\n",
    "            self.odometer_reading = mileage\n",
    "        else:\n",
    "            print(\"You can't roll back an odometer!\")\n",
    "\n"
   ]
  },
  {
   "cell_type": "code",
   "execution_count": 17,
   "metadata": {},
   "outputs": [
    {
     "name": "stdout",
     "output_type": "stream",
     "text": [
      "2016 Audi A4\n",
      "This car has 23 miles on it.\n"
     ]
    }
   ],
   "source": [
    "get_detail = Car('audi', 'a4', 2016)\n",
    "\n",
    "print(get_detail.get_descriptive_name())\n",
    "\n",
    "# get_detail.read_odometer()\n",
    "\n",
    "get_detail.update_odometer(23)\n",
    "\n",
    "get_detail.read_odometer()"
   ]
  },
  {
   "cell_type": "markdown",
   "metadata": {},
   "source": [
    "#INHERITENCE"
   ]
  },
  {
   "cell_type": "code",
   "execution_count": 20,
   "metadata": {},
   "outputs": [
    {
     "name": "stdout",
     "output_type": "stream",
     "text": [
      "2016 Tesla Models\n"
     ]
    }
   ],
   "source": [
    "class ElectricCar(Car):\n",
    "    def __init__(self, make, model, year):\n",
    "        super().__init__(make, model, year)\n",
    "\n",
    "\n",
    "my_tesla = ElectricCar('tesla', 'models', 2016)\n",
    "\n",
    "print(my_tesla.get_descriptive_name())"
   ]
  }
 ],
 "metadata": {
  "kernelspec": {
   "display_name": "Python 3",
   "language": "python",
   "name": "python3"
  },
  "language_info": {
   "codemirror_mode": {
    "name": "ipython",
    "version": 3
   },
   "file_extension": ".py",
   "mimetype": "text/x-python",
   "name": "python",
   "nbconvert_exporter": "python",
   "pygments_lexer": "ipython3",
   "version": "3.10.12"
  }
 },
 "nbformat": 4,
 "nbformat_minor": 2
}
