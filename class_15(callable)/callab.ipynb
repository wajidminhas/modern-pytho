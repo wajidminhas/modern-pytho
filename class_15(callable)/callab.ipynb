{
 "cells": [
  {
   "cell_type": "code",
   "execution_count": 5,
   "metadata": {},
   "outputs": [],
   "source": [
    "from typing import Any\n",
    "\n",
    "\n",
    "class Factorial:\n",
    "    def __init__(self) -> None:\n",
    "        self.cache = {0:1, 1:1}\n",
    "\n",
    "    def __call__(self, num):\n",
    "        if num not in self.cache:\n",
    "            self.cache[num] = num * self(num - 1)\n",
    "        return self.cache[num]"
   ]
  },
  {
   "cell_type": "code",
   "execution_count": 7,
   "metadata": {},
   "outputs": [
    {
     "data": {
      "text/plain": [
       "120"
      ]
     },
     "execution_count": 7,
     "metadata": {},
     "output_type": "execute_result"
    }
   ],
   "source": [
    "factorial_list = Factorial()\n",
    "\n",
    "factorial_list(3)\n",
    "factorial_list(4)\n",
    "factorial_list(5)"
   ]
  },
  {
   "cell_type": "markdown",
   "metadata": {},
   "source": [
    "#Encapsulation\n",
    "*protected\n",
    "*private\n",
    "*public\n",
    "\n",
    "    "
   ]
  },
  {
   "cell_type": "code",
   "execution_count": 43,
   "metadata": {},
   "outputs": [],
   "source": [
    "class StudentLogin():\n",
    "    def __init__(self):\n",
    "        self.__username : str = \"admin\"\n",
    "        self.__password : str = \"admin\"\n",
    "\n",
    "    def __dbconnectivity(self,user: str, password1 : str):\n",
    "        print(\"successfully connected with db\")\n",
    "        if user == self.__username and password1 == self.__password:\n",
    "            print(\"welcome to PIAIC\")\n",
    "        else :\n",
    "            print(\"Invalid user credential\")\n",
    "\n",
    "    def upadat_password(self, password2:str):\n",
    "        self.__password : str = password2\n",
    "        # print(f\" your updated password is {password}\")\n",
    "\n",
    "    def login_user(self, user:str, pass1 : str):\n",
    "        message  = self.__dbconnectivity(user, pass1)\n",
    "        print(message)\n",
    "\n",
    "    def display_info(self):\n",
    "        print(f'you user name is {self.__username} and your password is {self.__password}')\n",
    "\n",
    "balaaj : StudentLogin = StudentLogin()"
   ]
  },
  {
   "cell_type": "code",
   "execution_count": 46,
   "metadata": {},
   "outputs": [],
   "source": [
    "balaaj.__password  = \"adlfja\""
   ]
  },
  {
   "cell_type": "code",
   "execution_count": 45,
   "metadata": {},
   "outputs": [
    {
     "name": "stdout",
     "output_type": "stream",
     "text": [
      "you user name is admin and your password is admin\n"
     ]
    }
   ],
   "source": [
    "balaaj.display_info()"
   ]
  },
  {
   "cell_type": "code",
   "execution_count": 47,
   "metadata": {},
   "outputs": [
    {
     "name": "stdout",
     "output_type": "stream",
     "text": [
      "successfully connected with db\n",
      "Invalid user credential\n",
      "None\n"
     ]
    }
   ],
   "source": [
    "balaaj.login_user(\"admin\", \"ad1fja\")"
   ]
  },
  {
   "cell_type": "code",
   "execution_count": 48,
   "metadata": {},
   "outputs": [],
   "source": [
    "balaaj.upadat_password(\"12345\")"
   ]
  },
  {
   "cell_type": "code",
   "execution_count": 49,
   "metadata": {},
   "outputs": [
    {
     "name": "stdout",
     "output_type": "stream",
     "text": [
      "you user name is admin and your password is 12345\n"
     ]
    }
   ],
   "source": [
    "balaaj.display_info()"
   ]
  }
 ],
 "metadata": {
  "kernelspec": {
   "display_name": "mine",
   "language": "python",
   "name": "python3"
  },
  "language_info": {
   "codemirror_mode": {
    "name": "ipython",
    "version": 3
   },
   "file_extension": ".py",
   "mimetype": "text/x-python",
   "name": "python",
   "nbconvert_exporter": "python",
   "pygments_lexer": "ipython3",
   "version": "3.12.1"
  }
 },
 "nbformat": 4,
 "nbformat_minor": 2
}
