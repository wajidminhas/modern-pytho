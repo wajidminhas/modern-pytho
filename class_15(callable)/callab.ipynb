{
 "cells": [
  {
   "cell_type": "code",
   "execution_count": 5,
   "metadata": {},
   "outputs": [],
   "source": [
    "from typing import Any\n",
    "\n",
    "\n",
    "class Factorial:\n",
    "    def __init__(self) -> None:\n",
    "        self.cache = {0:1, 1:1}\n",
    "\n",
    "    def __call__(self, num):\n",
    "        if num not in self.cache:\n",
    "            self.cache[num] = num * self(num - 1)\n",
    "        return self.cache[num]"
   ]
  },
  {
   "cell_type": "code",
   "execution_count": 7,
   "metadata": {},
   "outputs": [
    {
     "data": {
      "text/plain": [
       "120"
      ]
     },
     "execution_count": 7,
     "metadata": {},
     "output_type": "execute_result"
    }
   ],
   "source": [
    "factorial_list = Factorial()\n",
    "\n",
    "factorial_list(3)\n",
    "factorial_list(4)\n",
    "factorial_list(5)"
   ]
  },
  {
   "cell_type": "markdown",
   "metadata": {},
   "source": [
    "#Encapsulation\n",
    "*protected\n",
    "*private\n",
    "*public\n",
    "\n",
    "    "
   ]
  },
  {
   "cell_type": "code",
   "execution_count": 27,
   "metadata": {},
   "outputs": [],
   "source": [
    "class StudentLogin():\n",
    "    def __init__(self):\n",
    "        self.__username : str = \"admin\"\n",
    "        self.__password : str = \"admin\"\n",
    "\n",
    "    def __dbconnectivity(self,user: str, password1 : str):\n",
    "        print(\"successfully connected\")\n",
    "        if user == self.__username and password1 == self.__password:\n",
    "            print(\"welcome to PIAIC\")\n",
    "        else :\n",
    "            print(\"Invalid user credential\")\n",
    "\n",
    "    def upadat_password(self, password:str):\n",
    "        self.__password : str = password\n",
    "        print(f\" your updated password is {password}\")\n",
    "\n",
    "    def login_user(self, user1:str, password : str):\n",
    "        self.__dbconnectivity(user1, password)\n",
    "\n",
    "    def display_info(self):\n",
    "        print(f\"hello dear {self.__username == \"admin\"} \")\n",
    "#     def get_username(self):\n",
    "#         return self.__username\n",
    "\n",
    "#     def get_password(self):\n",
    "#         return self.__password\n",
    "# wajid = StudentLogin()\n",
    "# print( wajid.get_username() == \"admin\", wajid.get_password() == \"admin\")\n",
    "\n",
    "wajid = StudentLogin()\n"
   ]
  },
  {
   "cell_type": "code",
   "execution_count": 28,
   "metadata": {},
   "outputs": [
    {
     "name": "stdout",
     "output_type": "stream",
     "text": [
      "hello dear True \n",
      " your updated password is qwer\n"
     ]
    }
   ],
   "source": [
    "wajid.display_info()\n",
    "wajid.upadat_password(\"qwer\")"
   ]
  }
 ],
 "metadata": {
  "kernelspec": {
   "display_name": "mine",
   "language": "python",
   "name": "python3"
  },
  "language_info": {
   "codemirror_mode": {
    "name": "ipython",
    "version": 3
   },
   "file_extension": ".py",
   "mimetype": "text/x-python",
   "name": "python",
   "nbconvert_exporter": "python",
   "pygments_lexer": "ipython3",
   "version": "3.12.1"
  }
 },
 "nbformat": 4,
 "nbformat_minor": 2
}
