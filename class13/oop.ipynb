{
 "cells": [
  {
   "cell_type": "code",
   "execution_count": 26,
   "metadata": {},
   "outputs": [],
   "source": [
    "\n",
    "class Teacher():\n",
    "    def __init__(self, fname:str, lname: str, age:int):\n",
    "        self.fname :str = fname\n",
    "        self.lname :str =lname\n",
    "        self.age : int = age\n",
    "\n",
    "    def speaking(self, words:str):\n",
    "        print(f\"{self.fname} is speaking in {words}\")\n",
    "\n",
    "    def traveling(self, startLocation:str):\n",
    "        print(f\"{self.fname} start travel from {startLocation}.\")\n"
   ]
  },
  {
   "cell_type": "code",
   "execution_count": 28,
   "metadata": {},
   "outputs": [],
   "source": [
    "obj1 : Teacher = Teacher( \"sir zia\", \"khan\", 23)\n",
    "obj2 : Teacher = Teacher(\"M\", \"Qasim\", 30)\n"
   ]
  },
  {
   "cell_type": "code",
   "execution_count": 29,
   "metadata": {},
   "outputs": [
    {
     "name": "stdout",
     "output_type": "stream",
     "text": [
      "sir zia khan 23\n",
      "M Qasim 30\n",
      "sir zia is speaking in French\n"
     ]
    }
   ],
   "source": [
    "print(obj1.fname, obj1.lname, obj1.age)\n",
    "print(obj2.fname, obj2.lname, obj2.age )\n",
    "obj1.speaking(\"French\")"
   ]
  },
  {
   "cell_type": "code",
   "execution_count": 30,
   "metadata": {},
   "outputs": [
    {
     "name": "stdout",
     "output_type": "stream",
     "text": [
      "M start travel from karachi.\n"
     ]
    }
   ],
   "source": [
    "obj2.traveling(\"karachi\")"
   ]
  }
 ],
 "metadata": {
  "kernelspec": {
   "display_name": "mine",
   "language": "python",
   "name": "python3"
  },
  "language_info": {
   "codemirror_mode": {
    "name": "ipython",
    "version": 3
   },
   "file_extension": ".py",
   "mimetype": "text/x-python",
   "name": "python",
   "nbconvert_exporter": "python",
   "pygments_lexer": "ipython3",
   "version": "3.12.1"
  }
 },
 "nbformat": 4,
 "nbformat_minor": 2
}
