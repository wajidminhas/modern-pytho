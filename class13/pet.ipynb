{
 "cells": [
  {
   "cell_type": "code",
   "execution_count": 11,
   "metadata": {},
   "outputs": [],
   "source": [
    "\n",
    "class Pet():\n",
    "    def __init__(self, petName: str, petAge: int):\n",
    "        self.petName : str = petName\n",
    "        self.petAge : int = petAge\n",
    "    \n",
    "    def gender(self, breeding: str):\n",
    "        print(f\"{self.petName} is a amazing {breeding} breed which number is decreasing\"  )"
   ]
  },
  {
   "cell_type": "code",
   "execution_count": 12,
   "metadata": {},
   "outputs": [
    {
     "name": "stdout",
     "output_type": "stream",
     "text": [
      "konda\n"
     ]
    }
   ],
   "source": [
    "obj1 : Pet = Pet(\"konda\", 4)\n",
    "print(obj1.petName)"
   ]
  },
  {
   "cell_type": "code",
   "execution_count": 13,
   "metadata": {},
   "outputs": [
    {
     "name": "stdout",
     "output_type": "stream",
     "text": [
      "konda is a amazing sheford breed which number is decreasing\n"
     ]
    }
   ],
   "source": [
    "obj1.gender(\"sheford\")"
   ]
  },
  {
   "cell_type": "markdown",
   "metadata": {},
   "source": [
    "## IHERITENC "
   ]
  },
  {
   "cell_type": "code",
   "execution_count": 21,
   "metadata": {},
   "outputs": [],
   "source": [
    "class Parent():\n",
    "    def __init__(self, eyeColor : str, hairColor : str) -> None:\n",
    "        self.eyecolor : str = eyeColor\n",
    "        self.haircolor : str = hairColor\n",
    "\n",
    "    def speak(self, word:str):\n",
    "        print(f\"you voice is {word}\")\n",
    "\n",
    "    def watch(self, watch:str)->None:\n",
    "        print(f\"Enter you qoute {watch}\")\n",
    "\n",
    "class Child(Parent):\n",
    "    pass\n",
    "\n",
    "    "
   ]
  },
  {
   "cell_type": "code",
   "execution_count": 22,
   "metadata": {},
   "outputs": [
    {
     "name": "stdout",
     "output_type": "stream",
     "text": [
      "you voice is awesome\n",
      "brown\n"
     ]
    }
   ],
   "source": [
    "obj1 : Parent = Parent(\"brown\", \"black\")\n",
    "obj1.speak(\"awesome\")\n",
    "obj2 : Child = Child(\"blue\", \"brown\")\n",
    "print(obj1.eyecolor)\n"
   ]
  },
  {
   "cell_type": "code",
   "execution_count": 16,
   "metadata": {},
   "outputs": [
    {
     "name": "stdout",
     "output_type": "stream",
     "text": [
      "brown\n"
     ]
    }
   ],
   "source": [
    "print(obj1.eyecolor)"
   ]
  },
  {
   "cell_type": "code",
   "execution_count": 24,
   "metadata": {},
   "outputs": [
    {
     "name": "stdout",
     "output_type": "stream",
     "text": [
      "M.A\n",
      "['python', 'typescript']\n"
     ]
    }
   ],
   "source": [
    "class Employee():\n",
    "    def __init__(self, edu : str, cnic : int) -> None:\n",
    "        self.education : str = edu\n",
    "        self.cnic : int = cnic\n",
    "\n",
    "class Designer(Employee):\n",
    "    def __init__(self, edu: str, cnic: int, title : str) -> None:\n",
    "        super().__init__(edu, cnic)\n",
    "        self.title : str = title\n",
    "\n",
    "class Developer(Employee):\n",
    "    def __init__(self, edu: str, cnic: int, languge : list[str]) -> None:\n",
    "        super().__init__(edu, cnic)\n",
    "        self.languge : list[str] = languge\n",
    "\n",
    "design : Designer = Designer(\"M.A\", 3452, \"animation designer\")\n",
    "print(design.education)\n",
    "\n",
    "dev : Developer = Developer(\"MSC\", 4567, [\"python\", \"typescript\"])\n",
    "print(dev.languge)"
   ]
  }
 ],
 "metadata": {
  "kernelspec": {
   "display_name": "mine",
   "language": "python",
   "name": "python3"
  },
  "language_info": {
   "codemirror_mode": {
    "name": "ipython",
    "version": 3
   },
   "file_extension": ".py",
   "mimetype": "text/x-python",
   "name": "python",
   "nbconvert_exporter": "python",
   "pygments_lexer": "ipython3",
   "version": "3.12.1"
  }
 },
 "nbformat": 4,
 "nbformat_minor": 2
}
