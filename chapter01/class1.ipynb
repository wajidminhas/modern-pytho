{
 "cells": [
  {
   "cell_type": "code",
   "execution_count": 1,
   "metadata": {},
   "outputs": [],
   "source": [
    "greet_message : str = \"Hello World\""
   ]
  },
  {
   "cell_type": "code",
   "execution_count": 2,
   "metadata": {},
   "outputs": [
    {
     "name": "stdout",
     "output_type": "stream",
     "text": [
      "Pakistan\n",
      "<class 'str'>\n",
      "127511300719536\n",
      "['capitalize', 'casefold', 'center', 'count', 'encode', 'endswith', 'expandtabs', 'find', 'format', 'format_map', 'index', 'isalnum', 'isalpha', 'isascii', 'isdecimal', 'isdigit', 'isidentifier', 'islower', 'isnumeric', 'isprintable', 'isspace', 'istitle', 'isupper', 'join', 'ljust', 'lower', 'lstrip', 'maketrans', 'partition', 'removeprefix', 'removesuffix', 'replace', 'rfind', 'rindex', 'rjust', 'rpartition', 'rsplit', 'rstrip', 'split', 'splitlines', 'startswith', 'strip', 'swapcase', 'title', 'translate', 'upper', 'zfill']\n"
     ]
    }
   ],
   "source": [
    "name : str = \"Pakistan\"\n",
    "print(name) # print\n",
    "print(type(name)) # type\n",
    "print(id(name)) # physcial address\n",
    "print([i for i in dir(name) if \"__\" not in i]) # methods and attributes"
   ]
  },
  {
   "cell_type": "code",
   "execution_count": 11,
   "metadata": {},
   "outputs": [
    {
     "name": "stdout",
     "output_type": "stream",
     "text": [
      "Hello World\n",
      "Hello world\n",
      "HELLO WORLD\n",
      "('Hello ', 'World', '')\n",
      "6\n",
      "Hello Universe\n",
      "['Hello', 'World']\n",
      "Hello World\n",
      "Hello World\n"
     ]
    }
   ],
   "source": [
    "print(greet_message)\n",
    "print(greet_message.capitalize())\n",
    "print(greet_message.upper())\n",
    "print(greet_message.partition(\"World\"))\n",
    "print(greet_message.find(\"World\"))\n",
    "print(greet_message.replace(\"World\", \"Universe\"))\n",
    "print(greet_message.split())\n",
    "print(greet_message.strip())\n",
    "print(greet_message.title())"
   ]
  },
  {
   "cell_type": "code",
   "execution_count": 19,
   "metadata": {},
   "outputs": [
    {
     "name": "stdout",
     "output_type": "stream",
     "text": [
      "WAJID SHABBIR\n"
     ]
    }
   ],
   "source": [
    "def user_name(fname: str, lname: str) -> str:\n",
    "    first_name = fname\n",
    "    last_name = lname\n",
    "    full_name = first_name + \" \" + last_name\n",
    "    return full_name.upper()\n",
    "\n",
    "\n",
    "print(user_name(\"wajid\",\"shabbir\"))"
   ]
  },
  {
   "cell_type": "code",
   "execution_count": 26,
   "metadata": {},
   "outputs": [
    {
     "name": "stdout",
     "output_type": "stream",
     "text": [
      "Hello Mr \twajid Shabbir\n",
      "Hello Mr \n",
      "'wajid Shabbir'\n",
      "Hello Mr \n",
      "wajid Shabbir\n",
      "Hello Mr \n",
      "'wajid Shabbir'\n"
     ]
    }
   ],
   "source": [
    "from curses import longname\n",
    "\n",
    "\n",
    "fname = \"wajid\"\n",
    "lname = \"Shabbir\"\n",
    "full_name = fname + \" \" + lname\n",
    "\n",
    "print(f\"Hello Mr \\t{full_name}\")\n",
    "print(f\"Hello Mr \\n{full_name!r}\")\n",
    "print(f\"Hello Mr \\n{full_name!s}\")\n",
    "print(f\"Hello Mr \\n{full_name!a}\")"
   ]
  },
  {
   "cell_type": "code",
   "execution_count": 28,
   "metadata": {},
   "outputs": [
    {
     "name": "stdout",
     "output_type": "stream",
     "text": [
      "Pakistan:\n",
      "\tPunjab\n",
      "\tSindh\n",
      "\tBalochistan\n",
      "\tKPK\n",
      "\tAJK\n",
      "\tGB\n"
     ]
    }
   ],
   "source": [
    "print(\"Pakistan:\\n\\tPunjab\\n\\tSindh\\n\\tBalochistan\\n\\tKPK\\n\\tAJK\\n\\tGB\")"
   ]
  },
  {
   "cell_type": "code",
   "execution_count": 32,
   "metadata": {},
   "outputs": [
    {
     "name": "stdout",
     "output_type": "stream",
     "text": [
      "Programming Languages:\n",
      "\t\tTypeScript\n",
      "\t\tPython\n",
      "\t\tJava\n",
      "\t\tC++\n",
      "\t\tC#\n"
     ]
    }
   ],
   "source": [
    "print(\"Programming Languages:\\n\\t\\tTypeScript\\n\\t\\tPython\\n\\t\\tJava\\n\\t\\tC++\\n\\t\\tC#\")"
   ]
  },
  {
   "cell_type": "code",
   "execution_count": 40,
   "metadata": {},
   "outputs": [
    {
     "name": "stdout",
     "output_type": "stream",
     "text": [
      "['Minhas']\n",
      "Nawfal Minhas\n",
      "Nawfal Minhas   \n",
      "Nawfal Minhas   \n",
      "['Nawfal', 'Minhas']\n"
     ]
    }
   ],
   "source": [
    "fname = \"Nawfal Minhas   \"\n",
    "lname = \"Minhas\"\n",
    "print(lname.split())\n",
    "print(fname.rstrip())\n",
    "print(fname.lstrip())\n",
    "print(fname)\n",
    "print(fname.split())"
   ]
  }
 ],
 "metadata": {
  "kernelspec": {
   "display_name": "mine",
   "language": "python",
   "name": "python3"
  },
  "language_info": {
   "codemirror_mode": {
    "name": "ipython",
    "version": 3
   },
   "file_extension": ".py",
   "mimetype": "text/x-python",
   "name": "python",
   "nbconvert_exporter": "python",
   "pygments_lexer": "ipython3",
   "version": "3.10.12"
  }
 },
 "nbformat": 4,
 "nbformat_minor": 2
}
