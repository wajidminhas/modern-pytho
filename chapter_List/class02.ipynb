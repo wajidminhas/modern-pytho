{
 "cells": [
  {
   "cell_type": "code",
   "execution_count": 1,
   "metadata": {},
   "outputs": [
    {
     "name": "stdout",
     "output_type": "stream",
     "text": [
      "['trek', 'cannondale', 'redline', 'specialized']\n"
     ]
    }
   ],
   "source": [
    "bicycles = ['trek', 'cannondale', 'redline', 'specialized']\n",
    "\n",
    "print(bicycles)\n"
   ]
  },
  {
   "cell_type": "code",
   "execution_count": 5,
   "metadata": {},
   "outputs": [
    {
     "name": "stdout",
     "output_type": "stream",
     "text": [
      "redline\n",
      "Specialized\n",
      "TREK\n"
     ]
    }
   ],
   "source": [
    "print(bicycles[2])\n",
    "#we can use also string method in list\n",
    "print(bicycles[-1].title())\n",
    "print(bicycles[0].upper())"
   ]
  },
  {
   "cell_type": "code",
   "execution_count": 11,
   "metadata": {},
   "outputs": [
    {
     "name": "stdout",
     "output_type": "stream",
     "text": [
      "['sajid', 'wajid', 'abbas', 'Haroon', 'nawfal']\n",
      "['Sajid', 'Wajid', 'Abbas', 'Haroon', 'Nawfal']\n"
     ]
    }
   ],
   "source": [
    "name : list = [\"sajid\", \"wajid\", \"abbas\" , \"Haroon\", \"nawfal\"]\n",
    "\n",
    "name_in_title = [ name.title() for name in name ]\n",
    "\n",
    "\n",
    "print(name_in_title)\n",
    "   "
   ]
  },
  {
   "cell_type": "code",
   "execution_count": 13,
   "metadata": {},
   "outputs": [
    {
     "name": "stdout",
     "output_type": "stream",
     "text": [
      "Hello Mr : sajid\n",
      "Hello Mr : wajid\n",
      "Hello Mr : abbas\n",
      "Hello Mr : Haroon\n",
      "Hello Mr : nawfal\n"
     ]
    }
   ],
   "source": [
    "name : list = [\"sajid\", \"wajid\", \"abbas\" , \"Haroon\", \"nawfal\"]\n",
    "\n",
    "\n",
    "for name in name:\n",
    "    print(f\"Hello Mr : {name}\")\n",
    "\n"
   ]
  },
  {
   "cell_type": "code",
   "execution_count": 16,
   "metadata": {},
   "outputs": [
    {
     "name": "stdout",
     "output_type": "stream",
     "text": [
      "My Favourite vehicle is : Honda\n",
      "My Favourite vehicle is : BMW\n",
      "My Favourite vehicle is : Toyota\n",
      "My Favourite vehicle is : Corolla\n",
      "My Favourite vehicle is : Fortuner\n",
      "\n",
      "\n",
      "MY FAVOURITE VEHICLE IS : Bmw\n"
     ]
    }
   ],
   "source": [
    "favourite_vehicle :list =  [\"Honda\", \"BMW\", \"Toyota\", \"Corolla\", \"Fortuner\"]\n",
    "\n",
    "for vehicle in favourite_vehicle:\n",
    "    print(f\"My Favourite vehicle is : {vehicle}\")\n",
    "\n",
    "print(f\"\\n\\nMY FAVOURITE VEHICLE IS : {favourite_vehicle[1].title()}\")"
   ]
  },
  {
   "cell_type": "code",
   "execution_count": 22,
   "metadata": {},
   "outputs": [
    {
     "name": "stdout",
     "output_type": "stream",
     "text": [
      "['Honda', 'BMW', 'Toyota', 'Corolla', 'Fortuner']\n",
      "['Mercedes', 'BMW', 'Toyota', 'Corolla', 'Fortuner']\n",
      "['Mercedes', 'BMW', 'Toyota', 'Corolla', 'Fortuner', 'Ferrari']\n"
     ]
    }
   ],
   "source": [
    "favourite_vehicle :list =  [\"Honda\", \"BMW\", \"Toyota\", \"Corolla\", \"Fortuner\"]\n",
    "\n",
    "\n",
    "print(favourite_vehicle)\n",
    "\n",
    "\n",
    "favourite_vehicle[0] = \"Mercedes\"\n",
    "print(favourite_vehicle)\n",
    "\n",
    "favourite_vehicle.append(\"Ferrari\")\n",
    "print(favourite_vehicle)\n",
    "\n"
   ]
  },
  {
   "cell_type": "code",
   "execution_count": 24,
   "metadata": {},
   "outputs": [
    {
     "name": "stdout",
     "output_type": "stream",
     "text": [
      "['Mercedes', 'Honda', 'BMW', 'Toyota', 'Corolla', 'Fortuner']\n",
      "['Mercedes', 'Honda', 'BMW', 'Toyota', 'Corolla']\n"
     ]
    }
   ],
   "source": [
    "favourite_vehicle :list =  [\"Honda\", \"BMW\", \"Toyota\", \"Corolla\", \"Fortuner\"]\n",
    "\n",
    "\n",
    "favourite_vehicle.insert(0, \"Mercedes\")\n",
    "print(favourite_vehicle)\n",
    "\n",
    "favourite_vehicle.pop()\n",
    "print(favourite_vehicle)"
   ]
  },
  {
   "cell_type": "code",
   "execution_count": 26,
   "metadata": {},
   "outputs": [
    {
     "name": "stdout",
     "output_type": "stream",
     "text": [
      "['BMW', 'Corolla', 'Fortuner', 'Honda', 'Toyota']\n"
     ]
    }
   ],
   "source": [
    "favourite_vehicle :list =  [\"Honda\", \"BMW\", \"Toyota\", \"Corolla\", \"Fortuner\"]\n",
    "\n",
    "favourite_vehicle.sort()\n",
    "print(favourite_vehicle)"
   ]
  },
  {
   "cell_type": "code",
   "execution_count": 41,
   "metadata": {},
   "outputs": [
    {
     "name": "stdout",
     "output_type": "stream",
     "text": [
      "\n",
      "\n",
      "honda is also better.\n",
      "\n",
      "\n",
      "BMW is my Dream vehicle.\n",
      "\n",
      "\n",
      "toyota is also better.\n",
      "\n",
      "\n",
      "corolla is also better.\n",
      "\n",
      "\n",
      "fortuner is also better.\n",
      "\n",
      "\n",
      "These vehicles are best at speed : Bmw and Corolla\n"
     ]
    }
   ],
   "source": [
    "# if you want to print a statement in which link loop then code it out of loop block\n",
    "\n",
    "\n",
    "\n",
    "favourite_vehicle :list =  [\"Honda\", \"bmw\", \"Toyota\", \"Corolla\", \"fortuner\"]\n",
    "\n",
    "\n",
    "for vehicle in favourite_vehicle:\n",
    "    if vehicle == \"bmw\":\n",
    "        print(f\"\\n\\n{vehicle.upper()} is my Dream vehicle.\")\n",
    "    else:\n",
    "\n",
    "        print(f\"\\n\\n{vehicle.lower()} is also better.\")\n",
    "    \n",
    "\n",
    "print(f\"\\n\\nThese vehicles are best at speed : {favourite_vehicle[1].title()} and {favourite_vehicle[3].title()}\")"
   ]
  },
  {
   "cell_type": "code",
   "execution_count": 45,
   "metadata": {},
   "outputs": [
    {
     "name": "stdout",
     "output_type": "stream",
     "text": [
      "Favourite Pizzas:\n",
      "\n",
      "\tMughlai Pizaa is my favourite pizza\n",
      "\n",
      "\tGolden Crust is my favourite pizza\n",
      "\n",
      "\tAjwa Special is my favourite pizza\n",
      "\n",
      "\n",
      "I really love to take pizza at weekend\n"
     ]
    }
   ],
   "source": [
    "favourite_pizza : list = [\"mughlai pizaa\", \"golden crust\", \"ajwa special\"]\n",
    "print(\"Favourite Pizzas:\\n\")\n",
    "for pizza in favourite_pizza:\n",
    "    \n",
    "    print(f\"\\t{pizza.title()} is my favourite pizza\\n\")\n",
    "\n",
    "print(\"\\nI really love to take pizza at weekend\")"
   ]
  },
  {
   "cell_type": "code",
   "execution_count": 47,
   "metadata": {},
   "outputs": [
    {
     "name": "stdout",
     "output_type": "stream",
     "text": [
      "Animals:\n",
      "\n",
      "\tLION likes to eat 'Beaf and Meant'.\n",
      "\n",
      "\tTIGER likes to eat 'Beaf and Meant'.\n",
      "\n",
      "\tCAT likes to eat 'Beaf and Meant'.\n",
      "\n",
      "These animals like to eat 'Beaf and Meant'.\n"
     ]
    }
   ],
   "source": [
    "animals : list = [\"Lion\", \"Tiger\", \"Cat\"]\n",
    "print(\"Animals:\")\n",
    "for animal in animals:\n",
    "    print(f\"\\n\\t{animal.upper()} likes to eat 'Beaf and Meant'.\")\n",
    "\n",
    "print(\"\\nThese animals like to eat 'Beaf and Meant'.\")"
   ]
  },
  {
   "cell_type": "markdown",
   "metadata": {},
   "source": [
    "# Making Numerical Lists"
   ]
  },
  {
   "cell_type": "code",
   "execution_count": 48,
   "metadata": {},
   "outputs": [
    {
     "name": "stdout",
     "output_type": "stream",
     "text": [
      "1\n",
      "2\n",
      "3\n",
      "4\n",
      "5\n",
      "6\n",
      "7\n",
      "8\n",
      "9\n",
      "10\n"
     ]
    }
   ],
   "source": [
    "for values in range(1, 11):\n",
    "    print(values)"
   ]
  },
  {
   "cell_type": "markdown",
   "metadata": {},
   "source": [
    "# Using range() to Make a List of Numbers"
   ]
  },
  {
   "cell_type": "code",
   "execution_count": 50,
   "metadata": {},
   "outputs": [
    {
     "name": "stdout",
     "output_type": "stream",
     "text": [
      "[1, 2, 3, 4, 5, 6, 7, 8, 9, 10]\n"
     ]
    }
   ],
   "source": [
    "number : list = list(range(1, 11))\n",
    "print(number)"
   ]
  },
  {
   "cell_type": "code",
   "execution_count": 51,
   "metadata": {},
   "outputs": [
    {
     "name": "stdout",
     "output_type": "stream",
     "text": [
      "[2, 4, 6, 8, 10]\n"
     ]
    }
   ],
   "source": [
    "even_numbers : list = list(range(2, 11, 2))\n",
    "print(even_numbers)"
   ]
  },
  {
   "cell_type": "code",
   "execution_count": 52,
   "metadata": {},
   "outputs": [
    {
     "name": "stdout",
     "output_type": "stream",
     "text": [
      "[1, 3, 5, 7, 9]\n"
     ]
    }
   ],
   "source": [
    "odd_numbers: list = list(range(1, 11, 2))\n",
    "print(odd_numbers)"
   ]
  },
  {
   "cell_type": "code",
   "execution_count": 55,
   "metadata": {},
   "outputs": [
    {
     "name": "stdout",
     "output_type": "stream",
     "text": [
      "[1, 4, 9, 16, 25, 36, 49, 64, 81, 100, 121, 144, 169, 196, 225, 256, 289, 324, 361, 400]\n"
     ]
    }
   ],
   "source": [
    "squares : list = []\n",
    "\n",
    "for num in range(1, 21):\n",
    "    square = num ** 2\n",
    "    # squares.append(square)\n",
    "    squares.append(num**2)\n",
    "\n",
    "print(squares)"
   ]
  },
  {
   "cell_type": "code",
   "execution_count": 58,
   "metadata": {},
   "outputs": [
    {
     "name": "stdout",
     "output_type": "stream",
     "text": [
      "0\n",
      "9\n"
     ]
    },
    {
     "data": {
      "text/plain": [
       "45"
      ]
     },
     "execution_count": 58,
     "metadata": {},
     "output_type": "execute_result"
    }
   ],
   "source": [
    "digits = [1, 2, 3, 4, 5, 6, 7, 8, 9, 0]\n",
    "\n",
    "print(min(digits))\n",
    "min(digits)\n",
    "\n",
    "print(max(digits))\n",
    "max(digits)\n",
    "\n",
    "sum(digits)"
   ]
  },
  {
   "cell_type": "markdown",
   "metadata": {},
   "source": [
    "# List Comprehensions"
   ]
  },
  {
   "cell_type": "code",
   "execution_count": 59,
   "metadata": {},
   "outputs": [
    {
     "name": "stdout",
     "output_type": "stream",
     "text": [
      "[1, 4, 9, 16, 25, 36, 49, 64, 81, 100]\n"
     ]
    }
   ],
   "source": [
    "squares: list = [values ** 2 for values in range(1,11)]\n",
    "print(squares)"
   ]
  },
  {
   "cell_type": "code",
   "execution_count": 60,
   "metadata": {},
   "outputs": [
    {
     "name": "stdout",
     "output_type": "stream",
     "text": [
      "[1, 2, 3, 4, 5, 6, 7, 8, 9, 10, 11, 12, 13, 14, 15, 16, 17, 18, 19, 20]\n"
     ]
    }
   ],
   "source": [
    "## Counting to Twenty: Use a for loop to print the numbers from 1 to 20, inclusive\n",
    "\n",
    "number_list = list(range(1, 21))\n",
    "print(number_list)"
   ]
  },
  {
   "cell_type": "code",
   "execution_count": 62,
   "metadata": {},
   "outputs": [
    {
     "name": "stdout",
     "output_type": "stream",
     "text": [
      "[1, 5, 9, 13, 17]\n"
     ]
    }
   ],
   "source": [
    "# Odd Numbers: Use the third argument of the range() function to make a list\n",
    "# of the odd numbers from 1 to 20. Use a for loop to print each number.\n",
    "\n",
    "odd_number = list(range(1, 21, 4))\n",
    "\n",
    "print(odd_number)"
   ]
  },
  {
   "cell_type": "code",
   "execution_count": 63,
   "metadata": {},
   "outputs": [
    {
     "name": "stdout",
     "output_type": "stream",
     "text": [
      "3\n",
      "6\n",
      "9\n",
      "12\n",
      "15\n",
      "18\n",
      "21\n",
      "24\n",
      "27\n",
      "30\n"
     ]
    }
   ],
   "source": [
    "# Make a list of the multiples of 3, from 3 to 30. Use a for loop to\n",
    "# print the numbers in your list.\n",
    "\n",
    "multiples_of_3 = list(range(3, 31))\n",
    "\n",
    "\n",
    "for num in multiples_of_3:\n",
    "    if num % 3 == 0:\n",
    "        print(num)"
   ]
  },
  {
   "cell_type": "markdown",
   "metadata": {},
   "source": [
    "Cubes: A number raised to the third power is called a cube. For example,\n",
    "the cube of 2 is written as 2**3 in Python. Make a list of the first 10 cubes (that\n",
    "is, the cube of each integer from 1 through 10), and use a for loop to print out\n",
    "the value of each cube."
   ]
  },
  {
   "cell_type": "code",
   "execution_count": 64,
   "metadata": {},
   "outputs": [
    {
     "name": "stdout",
     "output_type": "stream",
     "text": [
      "1\n",
      "8\n",
      "27\n",
      "64\n",
      "125\n",
      "216\n",
      "343\n",
      "512\n",
      "729\n",
      "1000\n"
     ]
    }
   ],
   "source": [
    "cube_test = list(range(1, 11))\n",
    "\n",
    "for cube in cube_test:\n",
    "    print(cube**3)"
   ]
  },
  {
   "cell_type": "markdown",
   "metadata": {},
   "source": [
    "Cube Comprehension: Use a list comprehension to generate a list of the first\n",
    "10 cubes."
   ]
  },
  {
   "cell_type": "code",
   "execution_count": 65,
   "metadata": {},
   "outputs": [
    {
     "name": "stdout",
     "output_type": "stream",
     "text": [
      "[1, 8, 27, 64, 125, 216, 343, 512, 729, 1000]\n"
     ]
    }
   ],
   "source": [
    "cube_comprehension = [cube**3 for cube in range(1, 11)]\n",
    "\n",
    "print(cube_comprehension)"
   ]
  },
  {
   "cell_type": "markdown",
   "metadata": {},
   "source": [
    "#  List Slicing "
   ]
  },
  {
   "cell_type": "code",
   "execution_count": 5,
   "metadata": {},
   "outputs": [
    {
     "name": "stdout",
     "output_type": "stream",
     "text": [
      "['charles', 'martina', 'michael']\n",
      "['martina', 'michael', 'florence']\n",
      "['charles', 'martina', 'michael', 'florence']\n",
      "['michael', 'florence', 'eli']\n",
      "['michael', 'florence', 'eli']\n",
      "['florence', 'eli']\n",
      "['charles', 'martina', 'michael', 'florence', 'eli']\n"
     ]
    }
   ],
   "source": [
    "players = ['charles', 'martina', 'michael', 'florence', 'eli']\n",
    "\n",
    "print(players[0:3])\n",
    "\n",
    "print(players[1:4])\n",
    "\n",
    "print(players[:4])\n",
    "\n",
    "print(players[2:])\n",
    "\n",
    "print(players[-3:])\n",
    "\n",
    "print(players[-2: ])\n",
    "\n",
    "print(players[0:])"
   ]
  },
  {
   "cell_type": "code",
   "execution_count": 16,
   "metadata": {},
   "outputs": [
    {
     "name": "stdout",
     "output_type": "stream",
     "text": [
      "['apple', 'banana', 'cherry', 'orange', 'mango']\n",
      "Apple\n",
      "BANANA are my favourite fruits\n",
      "CHERRY is my favourite fruit\n",
      "Orange\n",
      "Mango\n"
     ]
    }
   ],
   "source": [
    "fruits : list = [\"apple\", \"banana\", \"cherry\", \"orange\", \"mango\"]\n",
    "\n",
    "print(fruits)\n",
    "\n",
    "for fruit in fruits:\n",
    "    if fruit == \"banana\":\n",
    "        print(f\"{fruit.upper()} are my favourite fruits\")\n",
    "    elif fruit == \"cherry\":\n",
    "        print(f\"{fruit.upper()} is my favourite fruit\")\n",
    "    else:\n",
    "        print(fruit.title())"
   ]
  },
  {
   "cell_type": "code",
   "execution_count": 27,
   "metadata": {},
   "outputs": [
    {
     "name": "stdout",
     "output_type": "stream",
     "text": [
      "['honda', 'bmw', 'toyota', 'corolla', 'fortuner']\n",
      "['honda', 'bmw', 'corolla', 'fortuner']\n"
     ]
    }
   ],
   "source": [
    "from os import remove\n",
    "\n",
    "\n",
    "vehicles : list = []\n",
    "\n",
    "vehicles.append(\"honda\")\n",
    "vehicles.append(\"bmw\")\n",
    "vehicles.append(\"toyota\")\n",
    "vehicles.append(\"corolla\")\n",
    "vehicles.append(\"fortuner\")\n",
    "\n",
    "print(vehicles)\n",
    "\n",
    "vehicles.pop(2)\n",
    "print(vehicles)\n"
   ]
  },
  {
   "cell_type": "markdown",
   "metadata": {},
   "source": [
    "# COPYING THE LIST"
   ]
  },
  {
   "cell_type": "code",
   "execution_count": 32,
   "metadata": {},
   "outputs": [
    {
     "name": "stdout",
     "output_type": "stream",
     "text": [
      "\n",
      "My Favourite fruits\n",
      "['apple', 'banana', 'cherry', 'orange', 'mango']\n",
      "\n",
      "My brother's favourite fruits\n",
      "['apple', 'banana', 'cherry', 'orange', 'mango']\n",
      "\n",
      "My brother's favourite fruits\n",
      "['apple', 'banana', 'cherry', 'orange', 'mango', 'pineapple']\n",
      "\n",
      "My Favourite fruits\n",
      "['apple', 'banana', 'cherry', 'orange', 'mango']\n"
     ]
    }
   ],
   "source": [
    "fruits : list = [\"apple\", \"banana\", \"cherry\", \"orange\", \"mango\"]\n",
    "\n",
    "brother_favourite_fruits : list = [\"apple\", \"banana\", \"cherry\", \"orange\", \"mango\"]\n",
    "\n",
    "fruits = brother_favourite_fruits[:]\n",
    "print(f\"\\nMy Favourite fruits\")\n",
    "print(fruits)\n",
    "\n",
    "print(f\"\\nMy brother's favourite fruits\")\n",
    "print(brother_favourite_fruits)\n",
    "\n",
    "brother_favourite_fruits.append(\"pineapple\")\n",
    "\n",
    "print(f\"\\nMy brother's favourite fruits\")\n",
    "print(brother_favourite_fruits)\n",
    "\n",
    "print(f\"\\nMy Favourite fruits\")\n",
    "print(fruits)"
   ]
  },
  {
   "cell_type": "markdown",
   "metadata": {},
   "source": [
    "# TUPLE"
   ]
  },
  {
   "cell_type": "code",
   "execution_count": 34,
   "metadata": {},
   "outputs": [
    {
     "name": "stdout",
     "output_type": "stream",
     "text": [
      "Chicken\n",
      "Pizza\n",
      "Mughali Chicken\n",
      "Fish\n",
      "Pasta\n"
     ]
    }
   ],
   "source": [
    "resturant_menu = (\"chicken\", \"pizza\", \"mughali chicken\", \"fish\", \"pasta\")\n",
    "\n",
    "for menu in resturant_menu:\n",
    "    print(menu.title())"
   ]
  },
  {
   "cell_type": "code",
   "execution_count": 37,
   "metadata": {},
   "outputs": [
    {
     "name": "stdout",
     "output_type": "stream",
     "text": [
      "('beaf', 'pizza', 'mughali chicken', 'fish', 'pasta')\n"
     ]
    }
   ],
   "source": [
    "resturant_menu:tuple = (\"chicken\", \"pizza\", \"mughali chicken\", \"fish\", \"pasta\")\n",
    "\n",
    "# resturant_menu[0] = \"beaf\" # we can not change the tuple\n",
    "\n",
    "resturant_menu = (\"beaf\", \"pizza\", \"mughali chicken\", \"fish\", \"pasta\")\n",
    "\n",
    "print(resturant_menu)"
   ]
  }
 ],
 "metadata": {
  "kernelspec": {
   "display_name": "mine",
   "language": "python",
   "name": "python3"
  },
  "language_info": {
   "codemirror_mode": {
    "name": "ipython",
    "version": 3
   },
   "file_extension": ".py",
   "mimetype": "text/x-python",
   "name": "python",
   "nbconvert_exporter": "python",
   "pygments_lexer": "ipython3",
   "version": "3.10.12"
  }
 },
 "nbformat": 4,
 "nbformat_minor": 2
}
