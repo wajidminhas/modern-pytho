{
 "cells": [
  {
   "cell_type": "code",
   "execution_count": 1,
   "metadata": {},
   "outputs": [
    {
     "name": "stdout",
     "output_type": "stream",
     "text": [
      "['trek', 'cannondale', 'redline', 'specialized']\n"
     ]
    }
   ],
   "source": [
    "bicycles = ['trek', 'cannondale', 'redline', 'specialized']\n",
    "\n",
    "print(bicycles)\n"
   ]
  },
  {
   "cell_type": "code",
   "execution_count": 5,
   "metadata": {},
   "outputs": [
    {
     "name": "stdout",
     "output_type": "stream",
     "text": [
      "redline\n",
      "Specialized\n",
      "TREK\n"
     ]
    }
   ],
   "source": [
    "print(bicycles[2])\n",
    "#we can use also string method in list\n",
    "print(bicycles[-1].title())\n",
    "print(bicycles[0].upper())"
   ]
  },
  {
   "cell_type": "code",
   "execution_count": 11,
   "metadata": {},
   "outputs": [
    {
     "name": "stdout",
     "output_type": "stream",
     "text": [
      "['sajid', 'wajid', 'abbas', 'Haroon', 'nawfal']\n",
      "['Sajid', 'Wajid', 'Abbas', 'Haroon', 'Nawfal']\n"
     ]
    }
   ],
   "source": [
    "name : list = [\"sajid\", \"wajid\", \"abbas\" , \"Haroon\", \"nawfal\"]\n",
    "\n",
    "name_in_title = [ name.title() for name in name ]\n",
    "\n",
    "\n",
    "print(name_in_title)\n",
    "   "
   ]
  },
  {
   "cell_type": "code",
   "execution_count": 13,
   "metadata": {},
   "outputs": [
    {
     "name": "stdout",
     "output_type": "stream",
     "text": [
      "Hello Mr : sajid\n",
      "Hello Mr : wajid\n",
      "Hello Mr : abbas\n",
      "Hello Mr : Haroon\n",
      "Hello Mr : nawfal\n"
     ]
    }
   ],
   "source": [
    "name : list = [\"sajid\", \"wajid\", \"abbas\" , \"Haroon\", \"nawfal\"]\n",
    "\n",
    "\n",
    "for name in name:\n",
    "    print(f\"Hello Mr : {name}\")\n",
    "\n"
   ]
  },
  {
   "cell_type": "code",
   "execution_count": 16,
   "metadata": {},
   "outputs": [
    {
     "name": "stdout",
     "output_type": "stream",
     "text": [
      "My Favourite vehicle is : Honda\n",
      "My Favourite vehicle is : BMW\n",
      "My Favourite vehicle is : Toyota\n",
      "My Favourite vehicle is : Corolla\n",
      "My Favourite vehicle is : Fortuner\n",
      "\n",
      "\n",
      "MY FAVOURITE VEHICLE IS : Bmw\n"
     ]
    }
   ],
   "source": [
    "favourite_vehicle :list =  [\"Honda\", \"BMW\", \"Toyota\", \"Corolla\", \"Fortuner\"]\n",
    "\n",
    "for vehicle in favourite_vehicle:\n",
    "    print(f\"My Favourite vehicle is : {vehicle}\")\n",
    "\n",
    "print(f\"\\n\\nMY FAVOURITE VEHICLE IS : {favourite_vehicle[1].title()}\")"
   ]
  },
  {
   "cell_type": "code",
   "execution_count": 22,
   "metadata": {},
   "outputs": [
    {
     "name": "stdout",
     "output_type": "stream",
     "text": [
      "['Honda', 'BMW', 'Toyota', 'Corolla', 'Fortuner']\n",
      "['Mercedes', 'BMW', 'Toyota', 'Corolla', 'Fortuner']\n",
      "['Mercedes', 'BMW', 'Toyota', 'Corolla', 'Fortuner', 'Ferrari']\n"
     ]
    }
   ],
   "source": [
    "favourite_vehicle :list =  [\"Honda\", \"BMW\", \"Toyota\", \"Corolla\", \"Fortuner\"]\n",
    "\n",
    "\n",
    "print(favourite_vehicle)\n",
    "\n",
    "\n",
    "favourite_vehicle[0] = \"Mercedes\"\n",
    "print(favourite_vehicle)\n",
    "\n",
    "favourite_vehicle.append(\"Ferrari\")\n",
    "print(favourite_vehicle)\n",
    "\n"
   ]
  },
  {
   "cell_type": "code",
   "execution_count": 24,
   "metadata": {},
   "outputs": [
    {
     "name": "stdout",
     "output_type": "stream",
     "text": [
      "['Mercedes', 'Honda', 'BMW', 'Toyota', 'Corolla', 'Fortuner']\n",
      "['Mercedes', 'Honda', 'BMW', 'Toyota', 'Corolla']\n"
     ]
    }
   ],
   "source": [
    "favourite_vehicle :list =  [\"Honda\", \"BMW\", \"Toyota\", \"Corolla\", \"Fortuner\"]\n",
    "\n",
    "\n",
    "favourite_vehicle.insert(0, \"Mercedes\")\n",
    "print(favourite_vehicle)\n",
    "\n",
    "favourite_vehicle.pop()\n",
    "print(favourite_vehicle)"
   ]
  },
  {
   "cell_type": "code",
   "execution_count": 26,
   "metadata": {},
   "outputs": [
    {
     "name": "stdout",
     "output_type": "stream",
     "text": [
      "['BMW', 'Corolla', 'Fortuner', 'Honda', 'Toyota']\n"
     ]
    }
   ],
   "source": [
    "favourite_vehicle :list =  [\"Honda\", \"BMW\", \"Toyota\", \"Corolla\", \"Fortuner\"]\n",
    "\n",
    "favourite_vehicle.sort()\n",
    "print(favourite_vehicle)"
   ]
  }
 ],
 "metadata": {
  "kernelspec": {
   "display_name": "mine",
   "language": "python",
   "name": "python3"
  },
  "language_info": {
   "codemirror_mode": {
    "name": "ipython",
    "version": 3
   },
   "file_extension": ".py",
   "mimetype": "text/x-python",
   "name": "python",
   "nbconvert_exporter": "python",
   "pygments_lexer": "ipython3",
   "version": "3.10.12"
  }
 },
 "nbformat": 4,
 "nbformat_minor": 2
}
