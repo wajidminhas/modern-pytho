{
 "cells": [
  {
   "cell_type": "code",
   "execution_count": 1,
   "metadata": {},
   "outputs": [
    {
     "name": "stdout",
     "output_type": "stream",
     "text": [
      "Congratulation! you are eligible for this bonus\n",
      "your bonus amount is 172500.0\n"
     ]
    }
   ],
   "source": [
    "from datetime import date\n",
    "\n",
    "\n",
    "salary = float(input(\"Enter your salary\"))\n",
    "yos = int(input(\"Enter your year of servive\"))\n",
    "\n",
    "bonus = 0.5 * salary\n",
    "if yos > 5 :\n",
    "    print(\"Congratulation! you are eligible for this bonus\")\n",
    "    print(f\"your bonus amount is {bonus}\")\n",
    "else:\n",
    "    print(\"sorry, you are not eligible for this bonus\")\n"
   ]
  },
  {
   "cell_type": "code",
   "execution_count": 3,
   "metadata": {},
   "outputs": [
    {
     "name": "stdout",
     "output_type": "stream",
     "text": [
      "It's not square\n"
     ]
    }
   ],
   "source": [
    "length = float(input(\"Enter length\"))\n",
    "breath = float(input(\"Enter breath length\"))\n",
    "\n",
    "if length == breath:\n",
    "    print(\"It'square\")\n",
    "else:\n",
    "    print(\"It's not square\")"
   ]
  },
  {
   "cell_type": "code",
   "execution_count": 9,
   "metadata": {},
   "outputs": [
    {
     "name": "stdout",
     "output_type": "stream",
     "text": [
      "Second number is greater  \n"
     ]
    }
   ],
   "source": [
    "first_num = int(input(\"Enter first number\"))\n",
    "second_num = int(input(\"Enter second num\"))\n",
    "\n",
    "if first_num > second_num:\n",
    "    print(f\"First Number is greater {first_num}\")\n",
    "elif second_num > first_num:\n",
    "    print(f\"Second number is greater  \")\n",
    "else:\n",
    "    print(\"both are equal\")\n",
    "    "
   ]
  },
  {
   "cell_type": "code",
   "execution_count": 12,
   "metadata": {},
   "outputs": [
    {
     "name": "stdout",
     "output_type": "stream",
     "text": [
      "First is greater then all\n"
     ]
    }
   ],
   "source": [
    "first = float(input(\"Enter age\"))\n",
    "second = float(input(\"Enter second age \"))\n",
    "third = float(input(\"enter third age\"))\n",
    "\n",
    "if first > second and first > third:\n",
    "    print(\"First is greater then all\")\n",
    "elif second > first and second > third:\n",
    "    print(\"Second is greater then others\")\n",
    "elif third > first and third > second:\n",
    "    print(\"Third is greater then other\")\n",
    "else:\n",
    "    print(\"All are age fellows\")"
   ]
  }
 ],
 "metadata": {
  "kernelspec": {
   "display_name": "mine",
   "language": "python",
   "name": "python3"
  },
  "language_info": {
   "codemirror_mode": {
    "name": "ipython",
    "version": 3
   },
   "file_extension": ".py",
   "mimetype": "text/x-python",
   "name": "python",
   "nbconvert_exporter": "python",
   "pygments_lexer": "ipython3",
   "version": "3.12.1"
  }
 },
 "nbformat": 4,
 "nbformat_minor": 2
}
