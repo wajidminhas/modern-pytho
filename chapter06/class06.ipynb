{
 "cells": [
  {
   "cell_type": "code",
   "execution_count": 2,
   "metadata": {},
   "outputs": [
    {
     "name": "stdout",
     "output_type": "stream",
     "text": [
      "Hello world\n"
     ]
    }
   ],
   "source": [
    "if False:\n",
    "    print(\"Pakistan Zindabad\")\n",
    "else:\n",
    "    print(\"Hello world\")"
   ]
  },
  {
   "cell_type": "markdown",
   "metadata": {},
   "source": [
    "# comprehenssive logic"
   ]
  },
  {
   "cell_type": "code",
   "execution_count": 6,
   "metadata": {},
   "outputs": [
    {
     "name": "stdout",
     "output_type": "stream",
     "text": [
      "Hello world\n"
     ]
    }
   ],
   "source": [
    "print(\"Pakistan Zindabad\") if False else print(\"Hello world\")"
   ]
  },
  {
   "cell_type": "markdown",
   "metadata": {},
   "source": [
    "if Elif condition "
   ]
  },
  {
   "cell_type": "code",
   "execution_count": 7,
   "metadata": {},
   "outputs": [
    {
     "name": "stdout",
     "output_type": "stream",
     "text": [
      "True block\n",
      "pakistan zindabad\n"
     ]
    }
   ],
   "source": [
    "if True:\n",
    "    print(\"True block\")\n",
    "elif False:\n",
    "    print(\"False block\")\n",
    "elif False:\n",
    "    print(\"False block 2\")\n",
    "elif False:\n",
    "    print(\"False block 3\")\n",
    "else:\n",
    "    print(\"Else block\")\n",
    "print(\"pakistan zindabad\")"
   ]
  },
  {
   "cell_type": "code",
   "execution_count": 9,
   "metadata": {},
   "outputs": [
    {
     "name": "stdout",
     "output_type": "stream",
     "text": [
      "True block\n",
      "pakistan zindabad\n"
     ]
    }
   ],
   "source": [
    "if False:\n",
    "    print(\"False block\")\n",
    "elif True:\n",
    "    print(\"True block\")\n",
    "elif True:\n",
    "    print(\"False block 2\")\n",
    "elif False:\n",
    "    print(\"False block 3\")\n",
    "else:\n",
    "    print(\"Else block\")\n",
    "print(\"pakistan zindabad\")"
   ]
  },
  {
   "cell_type": "markdown",
   "metadata": {},
   "source": [
    "Grading system for practice"
   ]
  },
  {
   "cell_type": "code",
   "execution_count": 11,
   "metadata": {},
   "outputs": [
    {
     "name": "stdout",
     "output_type": "stream",
     "text": [
      "Dear student you percentile is 88.0 and your calculated grade is \t A\n"
     ]
    }
   ],
   "source": [
    "from typing import Union\n",
    " \n",
    "percentage : Union[int, float] = 88.0\n",
    "grade : Union[str, int] = None\n",
    "\n",
    "if percentage >= 90:\n",
    "    grade = \"A+\"\n",
    "elif percentage >= 80:\n",
    "    grade = \"A\"\n",
    "elif percentage >= 70:\n",
    "    grade = \"B\"\n",
    "elif percentage >= 60:\n",
    "    grade = \"C\"\n",
    "elif percentage >= 50:\n",
    "    grade = \"D\"\n",
    "elif  percentage >= 40:\n",
    "    grade = \"E\"\n",
    "else:\n",
    "    grade = \"F\"\n",
    "    print(\"please workhard and best wishes for next\")\n",
    "print(f\"Dear student you percentile is {percentage} and your calculated grade is \\t {grade}\")\n"
   ]
  },
  {
   "cell_type": "markdown",
   "metadata": {},
   "source": [
    "# Markdown \n"
   ]
  },
  {
   "cell_type": "code",
   "execution_count": 5,
   "metadata": {},
   "outputs": [
    {
     "name": "stdout",
     "output_type": "stream",
     "text": [
      "Your percentage is : \t88.7\n",
      " your calculated grade is A\n"
     ]
    }
   ],
   "source": [
    "from typing import Union\n",
    "\n",
    "percentage: Union[int, float] = float(input(\"Enter Your Percentage: \\t\"))\n",
    "grade: Union[str, int] = None\n",
    "\n",
    "if percentage >= 90:\n",
    "    grade = \"A+\"\n",
    "elif percentage >= 80:\n",
    "    grade = \"A\"\n",
    "elif percentage >= 70:\n",
    "    grade = \"B\"\n",
    "elif percentage >= 60:\n",
    "    grade = \"C\"\n",
    "elif percentage >= 50:\n",
    "    grade = \"D\"\n",
    "elif percentage >= 40:\n",
    "    grade = \"E\"\n",
    "else:\n",
    "    grade = \"F\"\n",
    "    print(\"Please work hard and best wishes for next\")\n",
    "\n",
    "print(f\"Your percentage is : \\t{percentage}\")\n",
    "print(f\" your calculated grade is {grade}\")\n"
   ]
  },
  {
   "cell_type": "code",
   "execution_count": 10,
   "metadata": {},
   "outputs": [
    {
     "name": "stdout",
     "output_type": "stream",
     "text": [
      "['Fail', 'Fail', 'Fail', 'D', 'B', 'C', 'A', 'A+', 'D', 'Fail']\n",
      "<class 'list'>\n",
      "[23, 32, 31, 56.6, 76.2, 67, 89, 98, 54, 4]\n"
     ]
    }
   ],
   "source": [
    "from typing import Union\n",
    "\n",
    "pertype = Union[int, float]\n",
    "\n",
    "percentage : list[pertype] = [23,32,31,56.6,76.2,67,89,98,54,4]\n",
    "\n",
    "grades : list[str] = []\n",
    "\n",
    "for per in percentage:\n",
    "    grade:list[str] = []\n",
    "\n",
    "    if per >= 90:\n",
    "        grade = \"A+\"\n",
    "    elif per >= 80:\n",
    "        grade = \"A\"\n",
    "    elif per >= 70:\n",
    "        grade = \"B\"\n",
    "    elif per >= 60:\n",
    "        grade = \"C\"\n",
    "    elif per >= 50:\n",
    "        grade = \"D\"\n",
    "    elif per >= 40:\n",
    "        grade = \"E\"\n",
    "    else:\n",
    "        grade = \"Fail\"\n",
    "\n",
    "    grades.append(grade)\n",
    "\n",
    "print(grades)\n",
    "print(percentage)\n",
    "\n"
   ]
  },
  {
   "cell_type": "markdown",
   "metadata": {},
   "source": [
    "# HERE WE WILL USE ZIP "
   ]
  },
  {
   "cell_type": "code",
   "execution_count": 14,
   "metadata": {},
   "outputs": [
    {
     "name": "stdout",
     "output_type": "stream",
     "text": [
      "['Fail', 'Fail', 'Fail', 'E', 'C', 'D', 'B', 'A', 'E', 'Fail']\n",
      "[23, 32, 31, 56.6, 76.2, 67, 89, 98, 54, 39]\n"
     ]
    }
   ],
   "source": [
    "from typing import Union\n",
    "pertype = Union[int,float]\n",
    "percentages : list[pertype] = [23,32,31,56.6,76.2,67,89,98,54,39]\n",
    "\n",
    "grades : list[str] = []\n",
    "\n",
    "for percentage in percentages:\n",
    "    grade : list[str] = \"\"\n",
    "    if percentage >= 90:\n",
    "        grade = \"A\" \n",
    "    elif percentage >= 80:\n",
    "        grade = \"B\"\n",
    "    elif  percentage >= 70:\n",
    "        grade = \"C\"\n",
    "    elif percentage >= 60:\n",
    "        grade = \"D\"\n",
    "    elif percentage >= 50:\n",
    "        grade = \"E\"\n",
    "    elif percentage >= 40:\n",
    "        grade = \"F\"\n",
    "    else: \n",
    "        grade = \"Fail\"\n",
    "\n",
    "    grades.append(grade)\n",
    "\n",
    "print(grades)\n",
    "print(percentages)\n",
    "\n",
    "\n",
    "\n"
   ]
  },
  {
   "cell_type": "code",
   "execution_count": 15,
   "metadata": {},
   "outputs": [
    {
     "data": {
      "text/plain": [
       "<zip at 0x1961e121380>"
      ]
     },
     "execution_count": 15,
     "metadata": {},
     "output_type": "execute_result"
    }
   ],
   "source": [
    "zip(grades, percentages)\n"
   ]
  },
  {
   "cell_type": "code",
   "execution_count": 24,
   "metadata": {},
   "outputs": [
    {
     "data": {
      "text/plain": [
       "[('Fail', 23),\n",
       " ('Fail', 32),\n",
       " ('Fail', 31),\n",
       " ('E', 56.6),\n",
       " ('C', 76.2),\n",
       " ('D', 67),\n",
       " ('B', 89),\n",
       " ('A', 98),\n",
       " ('E', 54),\n",
       " ('Fail', 39)]"
      ]
     },
     "execution_count": 24,
     "metadata": {},
     "output_type": "execute_result"
    }
   ],
   "source": [
    "list(zip(grades, percentages))"
   ]
  },
  {
   "cell_type": "code",
   "execution_count": 26,
   "metadata": {},
   "outputs": [
    {
     "name": "stdout",
     "output_type": "stream",
     "text": [
      "[0, 1, 2, 3, 4, 5, 6, 7, 8, 9]\n"
     ]
    }
   ],
   "source": [
    "roll_no : list[int] = list(range(len(percentages)))\n",
    "print(roll_no)"
   ]
  },
  {
   "cell_type": "code",
   "execution_count": 28,
   "metadata": {},
   "outputs": [
    {
     "data": {
      "text/plain": [
       "[(0, 23, 'Fail'),\n",
       " (1, 32, 'Fail'),\n",
       " (2, 31, 'Fail'),\n",
       " (3, 56.6, 'E'),\n",
       " (4, 76.2, 'C'),\n",
       " (5, 67, 'D'),\n",
       " (6, 89, 'B'),\n",
       " (7, 98, 'A'),\n",
       " (8, 54, 'E'),\n",
       " (9, 39, 'Fail')]"
      ]
     },
     "execution_count": 28,
     "metadata": {},
     "output_type": "execute_result"
    }
   ],
   "source": [
    "data_base = list(zip(roll_no, percentages, grades))\n",
    "data_base"
   ]
  },
  {
   "cell_type": "markdown",
   "metadata": {},
   "source": [
    "# here we use sorting method to sort according to situation"
   ]
  },
  {
   "cell_type": "code",
   "execution_count": 30,
   "metadata": {},
   "outputs": [
    {
     "data": {
      "text/plain": [
       "[(0, 23, 'Fail'),\n",
       " (1, 32, 'Fail'),\n",
       " (2, 31, 'Fail'),\n",
       " (3, 56.6, 'E'),\n",
       " (4, 76.2, 'C'),\n",
       " (5, 67, 'D'),\n",
       " (6, 89, 'B'),\n",
       " (7, 98, 'A'),\n",
       " (8, 54, 'E'),\n",
       " (9, 39, 'Fail')]"
      ]
     },
     "metadata": {},
     "output_type": "display_data"
    },
    {
     "data": {
      "text/plain": [
       "[(0, 23, 'Fail'),\n",
       " (1, 32, 'Fail'),\n",
       " (2, 31, 'Fail'),\n",
       " (3, 56.6, 'E'),\n",
       " (4, 76.2, 'C'),\n",
       " (5, 67, 'D'),\n",
       " (6, 89, 'B'),\n",
       " (7, 98, 'A'),\n",
       " (8, 54, 'E'),\n",
       " (9, 39, 'Fail')]"
      ]
     },
     "execution_count": 30,
     "metadata": {},
     "output_type": "execute_result"
    }
   ],
   "source": [
    "display(data_base)\n",
    "sorted(data_base)"
   ]
  },
  {
   "cell_type": "code",
   "execution_count": 33,
   "metadata": {},
   "outputs": [
    {
     "data": {
      "text/plain": [
       "[(0, 23, 'Fail'),\n",
       " (1, 32, 'Fail'),\n",
       " (2, 31, 'Fail'),\n",
       " (3, 56.6, 'E'),\n",
       " (4, 76.2, 'C'),\n",
       " (5, 67, 'D'),\n",
       " (6, 89, 'B'),\n",
       " (7, 98, 'A'),\n",
       " (8, 54, 'E'),\n",
       " (9, 39, 'Fail')]"
      ]
     },
     "metadata": {},
     "output_type": "display_data"
    },
    {
     "data": {
      "text/plain": [
       "[(7, 98, 'A'),\n",
       " (6, 89, 'B'),\n",
       " (4, 76.2, 'C'),\n",
       " (5, 67, 'D'),\n",
       " (3, 56.6, 'E'),\n",
       " (8, 54, 'E'),\n",
       " (9, 39, 'Fail'),\n",
       " (1, 32, 'Fail'),\n",
       " (2, 31, 'Fail'),\n",
       " (0, 23, 'Fail')]"
      ]
     },
     "execution_count": 33,
     "metadata": {},
     "output_type": "execute_result"
    }
   ],
   "source": [
    "display(data_base)\n",
    "sorted(data_base, key=lambda x: x[1], reverse=True)"
   ]
  },
  {
   "cell_type": "code",
   "execution_count": 1,
   "metadata": {},
   "outputs": [
    {
     "name": "stdout",
     "output_type": "stream",
     "text": [
      "Honda\n",
      "BMW\n",
      "Toyota\n",
      "Corolla\n",
      "Fortuner\n"
     ]
    }
   ],
   "source": [
    "cars : list[str] = [\"honda\", \"bmw\", \"toyota\", \"corolla\", \"fortuner\"]\n",
    "\n",
    "for car in cars:\n",
    "    if car == \"bmw\":\n",
    "        print(car.upper())\n",
    "    else:\n",
    "        print(car.title())"
   ]
  },
  {
   "cell_type": "code",
   "execution_count": 11,
   "metadata": {},
   "outputs": [
    {
     "data": {
      "text/plain": [
       "['Honda', 'BMW', 'Toyota', 'Corolla', 'Fortuner']"
      ]
     },
     "execution_count": 11,
     "metadata": {},
     "output_type": "execute_result"
    }
   ],
   "source": [
    "cars : list[str] = [\"honda\", \"bmw\", \"toyota\", \"corolla\", \"fortuner\"]\n",
    "[i.upper() if i == \"bmw\" else i.title()  for i in cars]"
   ]
  },
  {
   "cell_type": "code",
   "execution_count": 12,
   "metadata": {},
   "outputs": [
    {
     "name": "stdout",
     "output_type": "stream",
     "text": [
      "HONDA\n",
      "BMW\n",
      "TOYOTA\n",
      "COROLLA\n",
      "fortuner\n"
     ]
    }
   ],
   "source": [
    "cars : list[str] = [\"honda\", \"bmw\", \"toyota\", \"corolla\", \"fortuner\"]\n",
    "\n",
    "for car in cars:\n",
    "    if car != \"fortuner\":\n",
    "        print(car.upper())\n",
    "    else:\n",
    "        print(car.lower())"
   ]
  },
  {
   "cell_type": "code",
   "execution_count": 19,
   "metadata": {},
   "outputs": [
    {
     "name": "stdout",
     "output_type": "stream",
     "text": [
      "Email or Password is incorrect, try later\n"
     ]
    }
   ],
   "source": [
    "from typing import Union\n",
    "\n",
    "age : Union[int, str] = int(input(\"Enter your age: \"))\n",
    "name: str = str(input(\"Enter your name: \"))\n",
    "password: int = int(input(\"Enter your password: \"))\n",
    "if (password == 1234) and (age >= 18) and (name == \"wajid\"):\n",
    "    print(f\"Mr {name} You are eligible to vote\")\n",
    "else:\n",
    "    print(\"Email or Password is incorrect, try later\")"
   ]
  }
 ],
 "metadata": {
  "kernelspec": {
   "display_name": "mine",
   "language": "python",
   "name": "python3"
  },
  "language_info": {
   "codemirror_mode": {
    "name": "ipython",
    "version": 3
   },
   "file_extension": ".py",
   "mimetype": "text/x-python",
   "name": "python",
   "nbconvert_exporter": "python",
   "pygments_lexer": "ipython3",
   "version": "3.12.1"
  }
 },
 "nbformat": 4,
 "nbformat_minor": 2
}
