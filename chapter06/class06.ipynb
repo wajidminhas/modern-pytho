{
 "cells": [
  {
   "cell_type": "code",
   "execution_count": 2,
   "metadata": {},
   "outputs": [
    {
     "name": "stdout",
     "output_type": "stream",
     "text": [
      "Hello world\n"
     ]
    }
   ],
   "source": [
    "if False:\n",
    "    print(\"Pakistan Zindabad\")\n",
    "else:\n",
    "    print(\"Hello world\")"
   ]
  },
  {
   "cell_type": "markdown",
   "metadata": {},
   "source": [
    "# comprehenssion logic"
   ]
  },
  {
   "cell_type": "code",
   "execution_count": 6,
   "metadata": {},
   "outputs": [
    {
     "name": "stdout",
     "output_type": "stream",
     "text": [
      "Hello world\n"
     ]
    }
   ],
   "source": [
    "print(\"Pakistan Zindabad\") if False else print(\"Hello world\")"
   ]
  },
  {
   "cell_type": "markdown",
   "metadata": {},
   "source": [
    "if Elif condition "
   ]
  },
  {
   "cell_type": "code",
   "execution_count": 7,
   "metadata": {},
   "outputs": [
    {
     "name": "stdout",
     "output_type": "stream",
     "text": [
      "True block\n",
      "pakistan zindabad\n"
     ]
    }
   ],
   "source": [
    "if True:\n",
    "    print(\"True block\")\n",
    "elif False:\n",
    "    print(\"False block\")\n",
    "elif False:\n",
    "    print(\"False block 2\")\n",
    "elif False:\n",
    "    print(\"False block 3\")\n",
    "else:\n",
    "    print(\"Else block\")\n",
    "print(\"pakistan zindabad\")"
   ]
  },
  {
   "cell_type": "code",
   "execution_count": 9,
   "metadata": {},
   "outputs": [
    {
     "name": "stdout",
     "output_type": "stream",
     "text": [
      "True block\n",
      "pakistan zindabad\n"
     ]
    }
   ],
   "source": [
    "if False:\n",
    "    print(\"False block\")\n",
    "elif True:\n",
    "    print(\"True block\")\n",
    "elif True:\n",
    "    print(\"False block 2\")\n",
    "elif False:\n",
    "    print(\"False block 3\")\n",
    "else:\n",
    "    print(\"Else block\")\n",
    "print(\"pakistan zindabad\")"
   ]
  }
 ],
 "metadata": {
  "kernelspec": {
   "display_name": "mine",
   "language": "python",
   "name": "python3"
  },
  "language_info": {
   "codemirror_mode": {
    "name": "ipython",
    "version": 3
   },
   "file_extension": ".py",
   "mimetype": "text/x-python",
   "name": "python",
   "nbconvert_exporter": "python",
   "pygments_lexer": "ipython3",
   "version": "3.12.1"
  }
 },
 "nbformat": 4,
 "nbformat_minor": 2
}
