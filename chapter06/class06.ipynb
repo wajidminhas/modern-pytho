{
 "cells": [
  {
   "cell_type": "code",
   "execution_count": 2,
   "metadata": {},
   "outputs": [
    {
     "name": "stdout",
     "output_type": "stream",
     "text": [
      "Hello world\n"
     ]
    }
   ],
   "source": [
    "if False:\n",
    "    print(\"Pakistan Zindabad\")\n",
    "else:\n",
    "    print(\"Hello world\")"
   ]
  },
  {
   "cell_type": "markdown",
   "metadata": {},
   "source": [
    "# comprehenssion logic"
   ]
  },
  {
   "cell_type": "code",
   "execution_count": 6,
   "metadata": {},
   "outputs": [
    {
     "name": "stdout",
     "output_type": "stream",
     "text": [
      "Hello world\n"
     ]
    }
   ],
   "source": [
    "print(\"Pakistan Zindabad\") if False else print(\"Hello world\")"
   ]
  },
  {
   "cell_type": "markdown",
   "metadata": {},
   "source": [
    "if Elif condition "
   ]
  },
  {
   "cell_type": "code",
   "execution_count": 7,
   "metadata": {},
   "outputs": [
    {
     "name": "stdout",
     "output_type": "stream",
     "text": [
      "True block\n",
      "pakistan zindabad\n"
     ]
    }
   ],
   "source": [
    "if True:\n",
    "    print(\"True block\")\n",
    "elif False:\n",
    "    print(\"False block\")\n",
    "elif False:\n",
    "    print(\"False block 2\")\n",
    "elif False:\n",
    "    print(\"False block 3\")\n",
    "else:\n",
    "    print(\"Else block\")\n",
    "print(\"pakistan zindabad\")"
   ]
  },
  {
   "cell_type": "code",
   "execution_count": 9,
   "metadata": {},
   "outputs": [
    {
     "name": "stdout",
     "output_type": "stream",
     "text": [
      "True block\n",
      "pakistan zindabad\n"
     ]
    }
   ],
   "source": [
    "if False:\n",
    "    print(\"False block\")\n",
    "elif True:\n",
    "    print(\"True block\")\n",
    "elif True:\n",
    "    print(\"False block 2\")\n",
    "elif False:\n",
    "    print(\"False block 3\")\n",
    "else:\n",
    "    print(\"Else block\")\n",
    "print(\"pakistan zindabad\")"
   ]
  },
  {
   "cell_type": "markdown",
   "metadata": {},
   "source": [
    "Grading system for practice"
   ]
  },
  {
   "cell_type": "code",
   "execution_count": 11,
   "metadata": {},
   "outputs": [
    {
     "name": "stdout",
     "output_type": "stream",
     "text": [
      "Dear student you percentile is 88.0 and your calculated grade is \t A\n"
     ]
    }
   ],
   "source": [
    "from typing import Union\n",
    " \n",
    "percentage : Union[int, float] = 88.0\n",
    "grade : Union[str, int] = None\n",
    "\n",
    "if percentage >= 90:\n",
    "    grade = \"A+\"\n",
    "elif percentage >= 80:\n",
    "    grade = \"A\"\n",
    "elif percentage >= 70:\n",
    "    grade = \"B\"\n",
    "elif percentage >= 60:\n",
    "    grade = \"C\"\n",
    "elif percentage >= 50:\n",
    "    grade = \"D\"\n",
    "elif  percentage >= 40:\n",
    "    grade = \"E\"\n",
    "else:\n",
    "    grade = \"F\"\n",
    "    print(\"please workhard and best wishes for next\")\n",
    "print(f\"Dear student you percentile is {percentage} and your calculated grade is \\t {grade}\")\n"
   ]
  }
 ],
 "metadata": {
  "kernelspec": {
   "display_name": "mine",
   "language": "python",
   "name": "python3"
  },
  "language_info": {
   "codemirror_mode": {
    "name": "ipython",
    "version": 3
   },
   "file_extension": ".py",
   "mimetype": "text/x-python",
   "name": "python",
   "nbconvert_exporter": "python",
   "pygments_lexer": "ipython3",
   "version": "3.12.1"
  }
 },
 "nbformat": 4,
 "nbformat_minor": 2
}
