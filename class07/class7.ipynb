{
 "cells": [
  {
   "cell_type": "markdown",
   "metadata": {},
   "source": [
    "# Dicionary\n",
    "    * key-value (items)\n",
    "    * key   (indexes)\n",
    "    * value (items)"
   ]
  },
  {
   "cell_type": "code",
   "execution_count": 4,
   "metadata": {},
   "outputs": [
    {
     "data": {
      "text/plain": [
       "{'name': 'wajid shabbir',\n",
       " 'education': 'M.A.Edu',\n",
       " 'father_name': 'shabbir hussain'}"
      ]
     },
     "metadata": {},
     "output_type": "display_data"
    },
    {
     "name": "stdout",
     "output_type": "stream",
     "text": [
      "{'education': 'M.A.Edu',\n",
      " 'father_name': 'shabbir hussain',\n",
      " 'name': 'wajid shabbir'}\n"
     ]
    }
   ],
   "source": [
    "from typing import Dict\n",
    "import pprint           # for pretty display\n",
    "\n",
    "data : Dict[str, str] = {\n",
    "                \"name\" :\"wajid shabbir\",\n",
    "                \"education\": \"M.A.Edu\"\n",
    "}\n",
    "\n",
    "data[\"father_name\"] = \"shabbir hussain\"\n",
    "display(data)\n",
    "pprint.pprint(data)"
   ]
  },
  {
   "cell_type": "code",
   "execution_count": 9,
   "metadata": {},
   "outputs": [
    {
     "name": "stdout",
     "output_type": "stream",
     "text": [
      "{'education': 'M.A.Edu',\n",
      " 'father_name': 'shabbir hussain',\n",
      " 'name': 'wajid shabbir',\n",
      " 'percentage': 67.6}\n",
      "67.6\n"
     ]
    }
   ],
   "source": [
    "from typing import Dict, Union\n",
    "import pprint\n",
    "\n",
    "key = Union[int, str]       # custom type created\n",
    "value = Union[int, str, set, tuple, list, dict, float]\n",
    "data : Dict[key, value] = {\n",
    "                \"name\" :\"wajid shabbir\",\n",
    "                \"education\": \"M.A.Edu\",\n",
    "                \"father_name\": \"shabbir hussain\",\n",
    "                \"percentage\" : 67.6\n",
    "}\n",
    "\n",
    "pprint.pprint(data)\n",
    "# pprint.pprint(data[\"percentage\"])"
   ]
  },
  {
   "cell_type": "markdown",
   "metadata": {},
   "source": [
    "# to avoid function crashing we will use \n"
   ]
  },
  {
   "cell_type": "code",
   "execution_count": 16,
   "metadata": {},
   "outputs": [
    {
     "name": "stdout",
     "output_type": "stream",
     "text": [
      "'wajid shabbir'\n"
     ]
    }
   ],
   "source": [
    "from typing import Dict, Union\n",
    "import pprint\n",
    "\n",
    "key = Union[int, str]       # custom type created\n",
    "value = Union[int, str, set, tuple, list, dict, float]\n",
    "data : Dict[key, value] = {\n",
    "                \"name\" :\"wajid shabbir\",\n",
    "                \"education\": \"M.A.Edu\",\n",
    "                \"father_name\": \"shabbir hussain\",\n",
    "                \"percentage\" : 67.6\n",
    "}\n",
    "\n",
    "pprint.pprint(data.get(\"name\", 'NA'))"
   ]
  },
  {
   "cell_type": "code",
   "execution_count": 25,
   "metadata": {},
   "outputs": [
    {
     "name": "stdout",
     "output_type": "stream",
     "text": [
      "dict_keys(['name', 'education', 'father_name', 'percentage'])\n",
      "dict_values(['wajid shabbir', 'M.A.Edu', 'shabbir hussain', 67.6])\n",
      "dict_items([('name', 'wajid shabbir'), ('education', 'M.A.Edu'), ('father_name', 'shabbir hussain'), ('percentage', 67.6)])\n",
      "name  :  wajid shabbir\n",
      "education  :  M.A.Edu\n",
      "father_name  :  shabbir hussain\n",
      "percentage  :  67.6\n"
     ]
    }
   ],
   "source": [
    "from typing import Dict, Union\n",
    "import pprint\n",
    "\n",
    "key = Union[int, str]       # custom type created\n",
    "value = Union[int, str, set, tuple, list, dict, float]\n",
    "data : Dict[key, value] = {\n",
    "                \"name\" :\"wajid shabbir\",\n",
    "                \"education\": \"M.A.Edu\",\n",
    "                \"father_name\": \"shabbir hussain\",\n",
    "                \"percentage\" : 67.6\n",
    "}\n",
    "\n",
    "# to extract keys and values\n",
    "print(data.keys())\n",
    "print(data.values())\n",
    "\n",
    "# here opposit of zip we will use to dict_items for list of tuple \n",
    "print(data.items())\n",
    "\n",
    "for i in data.keys():\n",
    "    print(i,\" : \", data[i])\n"
   ]
  },
  {
   "cell_type": "code",
   "execution_count": 27,
   "metadata": {},
   "outputs": [
    {
     "data": {
      "text/plain": [
       "{'name': 'wajid shabbir',\n",
       " 'education': 'M.A.Edu',\n",
       " 'father_name': 'shabbir hussain',\n",
       " 'percentage': 67.6}"
      ]
     },
     "execution_count": 27,
     "metadata": {},
     "output_type": "execute_result"
    }
   ],
   "source": [
    "# dict comprhensive method\n",
    "{k:v for k,v in data.items()}"
   ]
  }
 ],
 "metadata": {
  "kernelspec": {
   "display_name": "mine",
   "language": "python",
   "name": "python3"
  },
  "language_info": {
   "codemirror_mode": {
    "name": "ipython",
    "version": 3
   },
   "file_extension": ".py",
   "mimetype": "text/x-python",
   "name": "python",
   "nbconvert_exporter": "python",
   "pygments_lexer": "ipython3",
   "version": "3.12.1"
  }
 },
 "nbformat": 4,
 "nbformat_minor": 2
}
