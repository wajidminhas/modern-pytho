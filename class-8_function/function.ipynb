{
 "cells": [
  {
   "cell_type": "code",
   "execution_count": 1,
   "metadata": {},
   "outputs": [
    {
     "name": "stdout",
     "output_type": "stream",
     "text": [
      "Hello John\n"
     ]
    }
   ],
   "source": [
    "def greet(username):\n",
    "    print(f\"Hello {username}\")\n",
    "\n",
    "\n",
    "greet(\"John\")"
   ]
  },
  {
   "cell_type": "code",
   "execution_count": 3,
   "metadata": {},
   "outputs": [
    {
     "data": {
      "text/plain": [
       "' i am learn in this chapter python'"
      ]
     },
     "execution_count": 3,
     "metadata": {},
     "output_type": "execute_result"
    }
   ],
   "source": [
    "def message(programme):\n",
    "    return (f\" i am learn in this chapter {programme}\")\n",
    "\n",
    "\n",
    "message(\"python\")"
   ]
  },
  {
   "cell_type": "code",
   "execution_count": 5,
   "metadata": {},
   "outputs": [
    {
     "data": {
      "text/plain": [
       "\"My favourite book is 'Holy Quran'\""
      ]
     },
     "execution_count": 5,
     "metadata": {},
     "output_type": "execute_result"
    }
   ],
   "source": [
    "def fav_book(title):\n",
    "    return (f\"My favourite book is '{title}'\")\n",
    "\n",
    "\n",
    "fav_book(\"Holy Quran\")"
   ]
  },
  {
   "cell_type": "code",
   "execution_count": 2,
   "metadata": {},
   "outputs": [
    {
     "name": "stdout",
     "output_type": "stream",
     "text": [
      "working on python\n"
     ]
    }
   ],
   "source": [
    "def display_message():\n",
    "    return input(\"Tell me something and i will repeat it back to you\")\n",
    "\n",
    "\n",
    "message = display_message()\n",
    "print(message)"
   ]
  },
  {
   "cell_type": "code",
   "execution_count": 10,
   "metadata": {},
   "outputs": [
    {
     "data": {
      "text/plain": [
       "'size : xl ,Message : lovely '"
      ]
     },
     "execution_count": 10,
     "metadata": {},
     "output_type": "execute_result"
    }
   ],
   "source": [
    "def shirt(size: str, message: str):\n",
    "    return (f\"size : {size} ,Message : {message} \")\n",
    "\n",
    "shirt(\"xl\", \"lovely\")"
   ]
  },
  {
   "cell_type": "code",
   "execution_count": 13,
   "metadata": {},
   "outputs": [
    {
     "name": "stdout",
     "output_type": "stream",
     "text": [
      "size : M ,Message : I Love Python \n",
      "size : L ,Message : I Love Python \n",
      "size : xl ,Message : I Love Python \n"
     ]
    }
   ],
   "source": [
    "def shirt(size: str, message: str =\"I Love Python\"):\n",
    "    return (f\"size : {size} ,Message : {message} \")\n",
    "\n",
    "m_shirt = shirt(\"M\")\n",
    "print(m_shirt)\n",
    "\n",
    "l_shirt = shirt(\"L\")\n",
    "print(l_shirt)\n",
    "\n",
    "xl = shirt(\"xl\")\n",
    "print(xl)"
   ]
  },
  {
   "cell_type": "code",
   "execution_count": 14,
   "metadata": {},
   "outputs": [
    {
     "name": "stdout",
     "output_type": "stream",
     "text": [
      "Lahore is situated in PAKISTAN\n",
      "sawat is situated in PAKISTAN\n",
      "Dehli is situated in INDIA\n"
     ]
    }
   ],
   "source": [
    "def describe_city(city : str, country : str = \"Pakistan\"):\n",
    "\n",
    "    return (f\"{city} is situated in {country.upper()}\")\n",
    "\n",
    "lahore = describe_city(\"Lahore\")\n",
    "print(lahore)\n",
    "\n",
    "sawat = describe_city(\"sawat\")\n",
    "print(sawat)\n",
    "\n",
    "dehli = describe_city(\"Dehli\", \"india\")\n",
    "print(dehli)"
   ]
  },
  {
   "cell_type": "code",
   "execution_count": 1,
   "metadata": {},
   "outputs": [
    {
     "name": "stdout",
     "output_type": "stream",
     "text": [
      "Wajid Minhas\n"
     ]
    }
   ],
   "source": [
    "def get_formatted_name(first_name, last_name):\n",
    "\n",
    "    full_name = f\"{first_name} {last_name}\"\n",
    "    return full_name.title()\n",
    "# This is an infinite loop!\n",
    "# while True:\n",
    "\n",
    "#     print(\"\\nPlease tell me your name:\")\n",
    "#     f_name = input(\"First name: \")\n",
    "#     l_name = input(\"Last name: \")\n",
    "formatted_name = get_formatted_name(\"wajid\", \"minhas\")\n",
    "print(formatted_name)"
   ]
  },
  {
   "cell_type": "code",
   "execution_count": 4,
   "metadata": {},
   "outputs": [
    {
     "name": "stdout",
     "output_type": "stream",
     "text": [
      "Vehicle In Pakista : mehran\n",
      "Vehicle In Pakista : suzuki\n",
      "Vehicle In Pakista : toyota\n",
      "Vehicle In Pakista : Honda\n",
      "\n",
      "this is update vehicle list\n",
      "mehran\n",
      "suzuki\n",
      "toyota\n",
      "Honda\n"
     ]
    }
   ],
   "source": [
    "vehicle_in_pak = [\"Honda\", \"toyota\", \"suzuki\", \"mehran\"]\n",
    "\n",
    "vehicle_updated_list = []\n",
    "\n",
    "while vehicle_in_pak:\n",
    "    vehicle = vehicle_in_pak.pop()\n",
    "    print(f\"Vehicle In Pakista : {vehicle}\")\n",
    "    vehicle_updated_list.append(vehicle)\n",
    "\n",
    "print(\"\\nthis is update vehicle list\")\n",
    "for vehicle_update in vehicle_updated_list:\n",
    "    print(vehicle_update)"
   ]
  },
  {
   "cell_type": "code",
   "execution_count": 5,
   "metadata": {},
   "outputs": [
    {
     "name": "stdout",
     "output_type": "stream",
     "text": [
      "('suzuki', 'toyota', 'honda')\n",
      "('suzuki', 'toyota', 'honda', 'mehran')\n",
      "('suzuki', 'toyota', 'honda', 'mehran', 'honda')\n"
     ]
    }
   ],
   "source": [
    "def models(*model):\n",
    "    print(model)\n",
    "\n",
    "\n",
    "models(\"suzuki\", \"toyota\", \"honda\")\n",
    "models(\"suzuki\", \"toyota\", \"honda\", \"mehran\")\n",
    "models(\"suzuki\", \"toyota\", \"honda\", \"mehran\", \"honda\")"
   ]
  },
  {
   "cell_type": "code",
   "execution_count": 6,
   "metadata": {},
   "outputs": [
    {
     "name": "stdout",
     "output_type": "stream",
     "text": [
      "{'location': 'lahore', 'field': 'python', 'hobby': 'cricket', 'fname': 'wajid', 'lname': 'minhas'}\n"
     ]
    }
   ],
   "source": [
    "def user_profile(first_name, last_name, **user_info):\n",
    "    user_info[\"fname\"] = first_name\n",
    "    user_info[\"lname\"] = last_name\n",
    "    return user_info\n",
    "\n",
    "buidl_user = user_profile(\"wajid\", \"minhas\", location=\"lahore\", field=\"python\", hobby=\"cricket\")\n",
    "print(buidl_user)\n"
   ]
  },
  {
   "cell_type": "markdown",
   "metadata": {},
   "source": [
    "Sandwiches: Write a function that accepts a list of items a person wants\n",
    "on a sandwich. The function should have one parameter that collects as many\n",
    "items as the function call provides, and it should print a summary of the sand-\n",
    "wich that’s being ordered. Call the function three times, using a different num-\n",
    "ber of arguments each time."
   ]
  },
  {
   "cell_type": "code",
   "execution_count": 11,
   "metadata": {},
   "outputs": [
    {
     "name": "stdout",
     "output_type": "stream",
     "text": [
      "simple  ('cheese', 'onion', 'tomato', 'sauce')\n",
      "mushroom  ('mushroom', 'cheese', 'onion', 'mushroom', 'sauce')\n"
     ]
    }
   ],
   "source": [
    "def sandwich(*items, sandwich: str):\n",
    "    return (f\"{sandwich}  {items}\")\n",
    "\n",
    "\n",
    "simple_sandwich = sandwich(\"cheese\", \"onion\", \"tomato\", \"sauce\", sandwich=\"simple\")\n",
    "print(simple_sandwich)\n",
    "\n",
    "\n",
    "mushroom_sandwich = sandwich(\"mushroom\", \"cheese\", \"onion\", \"mushroom\", \"sauce\", sandwich=\"mushroom\")\n",
    "print(mushroom_sandwich)\n",
    "\n"
   ]
  }
 ],
 "metadata": {
  "kernelspec": {
   "display_name": "Python 3",
   "language": "python",
   "name": "python3"
  },
  "language_info": {
   "codemirror_mode": {
    "name": "ipython",
    "version": 3
   },
   "file_extension": ".py",
   "mimetype": "text/x-python",
   "name": "python",
   "nbconvert_exporter": "python",
   "pygments_lexer": "ipython3",
   "version": "3.10.12"
  }
 },
 "nbformat": 4,
 "nbformat_minor": 2
}
