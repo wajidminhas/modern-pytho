{
 "cells": [
  {
   "cell_type": "code",
   "execution_count": 2,
   "metadata": {},
   "outputs": [
    {
     "name": "stdout",
     "output_type": "stream",
     "text": [
      "green\n",
      "5\n"
     ]
    }
   ],
   "source": [
    "alien_0 = {'color': 'green', 'points': 5}\n",
    "\n",
    "print(alien_0['color'])\n",
    "print(alien_0['points'])"
   ]
  },
  {
   "cell_type": "code",
   "execution_count": 3,
   "metadata": {},
   "outputs": [
    {
     "name": "stdout",
     "output_type": "stream",
     "text": [
      "{'color': 'green', 'points': 5}\n",
      "{'color': 'green', 'points': 5, 'x_position': 0, 'y_position': 25}\n"
     ]
    }
   ],
   "source": [
    "alien_0 = {'color': 'green', 'points': 5}\n",
    "print(alien_0)\n",
    "\n",
    "alien_0['x_position'] = 0\n",
    "alien_0['y_position'] = 25\n",
    "print(alien_0)"
   ]
  },
  {
   "cell_type": "markdown",
   "metadata": {},
   "source": [
    "# Empty Dictionary"
   ]
  },
  {
   "cell_type": "code",
   "execution_count": 5,
   "metadata": {},
   "outputs": [
    {
     "name": "stdout",
     "output_type": "stream",
     "text": [
      "{'color': 'green', 'points': 5}\n",
      "{'color': 'green', 'points': 5, 'x-position': 0, 'y-position': 25}\n"
     ]
    }
   ],
   "source": [
    "alien_0 = {}\n",
    "\n",
    "alien_0['color'] = 'green'\n",
    "alien_0['points'] = 5\n",
    "\n",
    "print(alien_0)\n",
    "\n",
    "# Add new key-value pair\n",
    "\n",
    "alien_0['x-position'] = 0\n",
    "alien_0['y-position'] = 25\n",
    "\n",
    "print(alien_0)\n",
    "\n"
   ]
  },
  {
   "cell_type": "code",
   "execution_count": 18,
   "metadata": {},
   "outputs": [
    {
     "name": "stdout",
     "output_type": "stream",
     "text": [
      "New position: 2\n",
      "New position: 4\n",
      "New position: 6\n"
     ]
    }
   ],
   "source": [
    "# TRACK THE POSITION\n",
    "\n",
    "alien_1 = {\"x_position\":0, \"y_position\":25, \"speed\":\"medium\"}\n",
    "\n",
    "if alien_1[\"speed\"] == \"slow\":\n",
    "    x_increament = 1\n",
    "\n",
    "elif alien_1[\"speed\"] == \"medium\":\n",
    "    x_increament = 2\n",
    "\n",
    "else:\n",
    "    x_increament = 3\n",
    "\n",
    "alien_1[\"x_position\"] = alien_1[\"x_position\"] + x_increament\n",
    "print(f\"New position: {alien_1['x_position']}\")\n",
    "\n",
    "\n",
    "alien_1[\"speed\"] = \"slow\"\n",
    "alien_1[\"x_position\"] = alien_1[\"x_position\"] + x_increament\n",
    "print(f\"New position: {alien_1['x_position']}\")\n",
    "\n",
    "\n",
    "alien_1[\"speed\"] = \"medium\"\n",
    "alien_1[\"x_position\"] = alien_1[\"x_position\"] + x_increament\n",
    "print(f\"New position: {alien_1['x_position']}\")"
   ]
  },
  {
   "cell_type": "code",
   "execution_count": null,
   "metadata": {},
   "outputs": [],
   "source": [
    "\n",
    "\n",
    "\n",
    "\n"
   ]
  }
 ],
 "metadata": {
  "kernelspec": {
   "display_name": "Python 3",
   "language": "python",
   "name": "python3"
  },
  "language_info": {
   "codemirror_mode": {
    "name": "ipython",
    "version": 3
   },
   "file_extension": ".py",
   "mimetype": "text/x-python",
   "name": "python",
   "nbconvert_exporter": "python",
   "pygments_lexer": "ipython3",
   "version": "3.10.12"
  }
 },
 "nbformat": 4,
 "nbformat_minor": 2
}
