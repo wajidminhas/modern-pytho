{
 "cells": [
  {
   "cell_type": "code",
   "execution_count": 2,
   "metadata": {},
   "outputs": [
    {
     "name": "stdout",
     "output_type": "stream",
     "text": [
      "(1, 'One')\n",
      "(2, 'Two')\n",
      "(3, 'Three')\n"
     ]
    }
   ],
   "source": [
    "numNames = { 1:'One', 2: 'Two', 3: 'Three'}\n",
    "\n",
    "for pair in numNames.items():\n",
    "    print(pair)"
   ]
  },
  {
   "cell_type": "code",
   "execution_count": 10,
   "metadata": {},
   "outputs": [
    {
     "name": "stdout",
     "output_type": "stream",
     "text": [
      "1 One\n",
      "2 Two\n",
      "3 Three\n"
     ]
    }
   ],
   "source": [
    "numNames = { 1:'One', 2: 'Two', 3: 'Three'}\n",
    "\n",
    "for k, v in numNames.items():\n",
    "    print(k, v)"
   ]
  },
  {
   "cell_type": "markdown",
   "metadata": {},
   "source": [
    "#for loop in range func    "
   ]
  },
  {
   "cell_type": "code",
   "execution_count": 11,
   "metadata": {},
   "outputs": [
    {
     "name": "stdout",
     "output_type": "stream",
     "text": [
      "0\n",
      "1\n",
      "2\n",
      "3\n",
      "4\n",
      "5\n",
      "6\n",
      "7\n",
      "8\n",
      "9\n"
     ]
    }
   ],
   "source": [
    "for i in range(10):\n",
    "    print(i)"
   ]
  },
  {
   "cell_type": "code",
   "execution_count": 29,
   "metadata": {},
   "outputs": [
    {
     "name": "stdout",
     "output_type": "stream",
     "text": [
      "4 x 1 = 4\n",
      "4 x 2 = 8\n",
      "4 x 3 = 12\n",
      "4 x 4 = 16\n",
      "4 x 5 = 20\n",
      "4 x 6 = 24\n",
      "4 x 7 = 28\n",
      "4 x 8 = 32\n",
      "4 x 9 = 36\n",
      "4 x 11 = 44\n",
      "4 x 12 = 48\n",
      "end of for loop\n"
     ]
    }
   ],
   "source": [
    "for i in range(1, 13):\n",
    "    if i == 10:\n",
    "        continue\n",
    "    print(f\"4 x {i} = {i * 4}\")\n",
    "else:\n",
    "    print(\"end of for loop\")\n",
    "    "
   ]
  },
  {
   "cell_type": "markdown",
   "metadata": {},
   "source": [
    "##Nested for loop"
   ]
  },
  {
   "cell_type": "code",
   "execution_count": 31,
   "metadata": {},
   "outputs": [
    {
     "name": "stdout",
     "output_type": "stream",
     "text": [
      "i =  0 , j =  0\n",
      "i =  0 , j =  1\n",
      "i =  0 , j =  2\n",
      "i =  0 , j =  3\n",
      "i =  0 , j =  4\n",
      "i =  1 , j =  0\n",
      "i =  1 , j =  1\n",
      "i =  1 , j =  2\n",
      "i =  1 , j =  3\n",
      "i =  1 , j =  4\n",
      "i =  2 , j =  0\n",
      "i =  2 , j =  1\n",
      "i =  2 , j =  2\n",
      "i =  2 , j =  3\n",
      "i =  2 , j =  4\n",
      "i =  3 , j =  0\n",
      "i =  3 , j =  1\n",
      "i =  3 , j =  2\n",
      "i =  3 , j =  3\n",
      "i =  3 , j =  4\n",
      "i =  4 , j =  0\n",
      "i =  4 , j =  1\n",
      "i =  4 , j =  2\n",
      "i =  4 , j =  3\n",
      "i =  4 , j =  4\n"
     ]
    }
   ],
   "source": [
    "for i in range(5):\n",
    "    for j in range(5):\n",
    "        print(\"i = \", i, \", j = \", j)"
   ]
  },
  {
   "cell_type": "code",
   "execution_count": 39,
   "metadata": {},
   "outputs": [
    {
     "name": "stdout",
     "output_type": "stream",
     "text": [
      "3\n",
      "5\n"
     ]
    }
   ],
   "source": [
    "# while loop practice\n",
    "\n",
    "i = 3\n",
    "while i <= 6:\n",
    "    print(i)\n",
    "    i += 2\n"
   ]
  },
  {
   "cell_type": "code",
   "execution_count": 47,
   "metadata": {},
   "outputs": [
    {
     "name": "stdout",
     "output_type": "stream",
     "text": [
      "1 \n",
      "1 2 \n",
      "1 2 3 \n",
      "1 2 3 4 \n",
      "1 2 3 4 5 \n",
      "1 2 3 4 5 6 \n"
     ]
    }
   ],
   "source": [
    "#pyramid\n",
    "row = 6\n",
    "for i in range(1, row + 1, 1):\n",
    "    for j in range(1, i + 1):\n",
    "        print(j, end=\" \")\n",
    "    print(\"\")\n"
   ]
  },
  {
   "cell_type": "code",
   "execution_count": 51,
   "metadata": {},
   "outputs": [
    {
     "name": "stdout",
     "output_type": "stream",
     "text": [
      "\n",
      "\n",
      "sum is:  276\n"
     ]
    }
   ],
   "source": [
    "#Write a program to accept a number from a user and calculate\n",
    "# the sum of all numbers from 1 to a given number\n",
    "\n",
    "s = 0\n",
    "n = int(input(\"Enter Number\"))\n",
    "\n",
    "for i in range(1, n + 1, 1):\n",
    "    s += i\n",
    "print(\"\\n\")\n",
    "print(\"sum is: \", s)\n",
    "\n",
    "# s = 0\n",
    "# n = int(input(\"Enter number \"))\n",
    "# # run loop n times\n",
    "# # stop: n+1 (because range never include stop number in result)\n",
    "# for i in range(1, n + 1, 1):\n",
    "#     # add current number to sum variable\n",
    "#     s += i\n",
    "# print(\"\\n\")\n",
    "# print(\"Sum is: \", s)\n",
    "\n"
   ]
  }
 ],
 "metadata": {
  "kernelspec": {
   "display_name": "mine",
   "language": "python",
   "name": "python3"
  },
  "language_info": {
   "codemirror_mode": {
    "name": "ipython",
    "version": 3
   },
   "file_extension": ".py",
   "mimetype": "text/x-python",
   "name": "python",
   "nbconvert_exporter": "python",
   "pygments_lexer": "ipython3",
   "version": "3.12.1"
  }
 },
 "nbformat": 4,
 "nbformat_minor": 2
}
