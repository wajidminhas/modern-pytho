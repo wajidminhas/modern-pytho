{
 "cells": [
  {
   "cell_type": "code",
   "execution_count": 2,
   "metadata": {},
   "outputs": [
    {
     "name": "stdout",
     "output_type": "stream",
     "text": [
      "(1, 'One')\n",
      "(2, 'Two')\n",
      "(3, 'Three')\n"
     ]
    }
   ],
   "source": [
    "numNames = { 1:'One', 2: 'Two', 3: 'Three'}\n",
    "\n",
    "for pair in numNames.items():\n",
    "    print(pair)"
   ]
  },
  {
   "cell_type": "code",
   "execution_count": 10,
   "metadata": {},
   "outputs": [
    {
     "name": "stdout",
     "output_type": "stream",
     "text": [
      "1 One\n",
      "2 Two\n",
      "3 Three\n"
     ]
    }
   ],
   "source": [
    "numNames = { 1:'One', 2: 'Two', 3: 'Three'}\n",
    "\n",
    "for k, v in numNames.items():\n",
    "    print(k, v)"
   ]
  },
  {
   "cell_type": "markdown",
   "metadata": {},
   "source": [
    "#for loop in range func    "
   ]
  },
  {
   "cell_type": "code",
   "execution_count": 11,
   "metadata": {},
   "outputs": [
    {
     "name": "stdout",
     "output_type": "stream",
     "text": [
      "0\n",
      "1\n",
      "2\n",
      "3\n",
      "4\n",
      "5\n",
      "6\n",
      "7\n",
      "8\n",
      "9\n"
     ]
    }
   ],
   "source": [
    "for i in range(10):\n",
    "    print(i)"
   ]
  },
  {
   "cell_type": "code",
   "execution_count": 29,
   "metadata": {},
   "outputs": [
    {
     "name": "stdout",
     "output_type": "stream",
     "text": [
      "4 x 1 = 4\n",
      "4 x 2 = 8\n",
      "4 x 3 = 12\n",
      "4 x 4 = 16\n",
      "4 x 5 = 20\n",
      "4 x 6 = 24\n",
      "4 x 7 = 28\n",
      "4 x 8 = 32\n",
      "4 x 9 = 36\n",
      "4 x 11 = 44\n",
      "4 x 12 = 48\n",
      "end of for loop\n"
     ]
    }
   ],
   "source": [
    "for i in range(1, 13):\n",
    "    if i == 10:\n",
    "        continue\n",
    "    print(f\"4 x {i} = {i * 4}\")\n",
    "else:\n",
    "    print(\"end of for loop\")\n",
    "    "
   ]
  },
  {
   "cell_type": "markdown",
   "metadata": {},
   "source": [
    "##Nested for loop"
   ]
  },
  {
   "cell_type": "code",
   "execution_count": 31,
   "metadata": {},
   "outputs": [
    {
     "name": "stdout",
     "output_type": "stream",
     "text": [
      "i =  0 , j =  0\n",
      "i =  0 , j =  1\n",
      "i =  0 , j =  2\n",
      "i =  0 , j =  3\n",
      "i =  0 , j =  4\n",
      "i =  1 , j =  0\n",
      "i =  1 , j =  1\n",
      "i =  1 , j =  2\n",
      "i =  1 , j =  3\n",
      "i =  1 , j =  4\n",
      "i =  2 , j =  0\n",
      "i =  2 , j =  1\n",
      "i =  2 , j =  2\n",
      "i =  2 , j =  3\n",
      "i =  2 , j =  4\n",
      "i =  3 , j =  0\n",
      "i =  3 , j =  1\n",
      "i =  3 , j =  2\n",
      "i =  3 , j =  3\n",
      "i =  3 , j =  4\n",
      "i =  4 , j =  0\n",
      "i =  4 , j =  1\n",
      "i =  4 , j =  2\n",
      "i =  4 , j =  3\n",
      "i =  4 , j =  4\n"
     ]
    }
   ],
   "source": [
    "for i in range(5):\n",
    "    for j in range(5):\n",
    "        print(\"i = \", i, \", j = \", j)"
   ]
  },
  {
   "cell_type": "code",
   "execution_count": 39,
   "metadata": {},
   "outputs": [
    {
     "name": "stdout",
     "output_type": "stream",
     "text": [
      "3\n",
      "5\n"
     ]
    }
   ],
   "source": [
    "# while loop practice\n",
    "\n",
    "i = 3\n",
    "while i <= 6:\n",
    "    print(i)\n",
    "    i += 2\n"
   ]
  },
  {
   "cell_type": "code",
   "execution_count": 47,
   "metadata": {},
   "outputs": [
    {
     "name": "stdout",
     "output_type": "stream",
     "text": [
      "1 \n",
      "1 2 \n",
      "1 2 3 \n",
      "1 2 3 4 \n",
      "1 2 3 4 5 \n",
      "1 2 3 4 5 6 \n"
     ]
    }
   ],
   "source": [
    "#pyramid\n",
    "row = 6\n",
    "for i in range(1, row + 1, 1):\n",
    "    for j in range(1, i + 1):\n",
    "        print(j, end=\" \")\n",
    "    print(\"\")\n"
   ]
  },
  {
   "cell_type": "code",
   "execution_count": 51,
   "metadata": {},
   "outputs": [
    {
     "name": "stdout",
     "output_type": "stream",
     "text": [
      "\n",
      "\n",
      "sum is:  276\n"
     ]
    }
   ],
   "source": [
    "#Write a program to accept a number from a user and calculate\n",
    "# the sum of all numbers from 1 to a given number\n",
    "\n",
    "s = 0\n",
    "n = int(input(\"Enter Number\"))\n",
    "\n",
    "for i in range(1, n + 1, 1):\n",
    "    s += i\n",
    "print(\"\\n\")\n",
    "print(\"sum is: \", s)\n",
    "\n",
    "# s = 0\n",
    "# n = int(input(\"Enter number \"))\n",
    "# # run loop n times\n",
    "# # stop: n+1 (because range never include stop number in result)\n",
    "# for i in range(1, n + 1, 1):\n",
    "#     # add current number to sum variable\n",
    "#     s += i\n",
    "# print(\"\\n\")\n",
    "# print(\"Sum is: \", s)\n",
    "\n"
   ]
  },
  {
   "cell_type": "markdown",
   "metadata": {},
   "source": [
    "#Exercise 4: Write a program to print multiplication table of a given number"
   ]
  },
  {
   "cell_type": "code",
   "execution_count": 4,
   "metadata": {},
   "outputs": [
    {
     "name": "stdout",
     "output_type": "stream",
     "text": [
      "2 X 0 = 0\n",
      "2 X 1 = 2\n",
      "2 X 2 = 4\n",
      "2 X 3 = 6\n",
      "2 X 4 = 8\n",
      "2 X 5 = 10\n",
      "2 X 6 = 12\n",
      "2 X 7 = 14\n",
      "2 X 8 = 16\n",
      "2 X 9 = 18\n",
      "2 X 10 = 20\n"
     ]
    }
   ],
   "source": [
    "n = 2\n",
    "\n",
    "for i in range(11):\n",
    "    print(f\"2 X {i} = {i*n}\" )\n",
    "    i += 1\n",
    "    # print(i) "
   ]
  },
  {
   "cell_type": "markdown",
   "metadata": {},
   "source": [
    "#Exercise 5: Display numbers from a list using loop \n",
    "#Write a program to display only those numbers from a list that satisfy the following conditions\n",
    "\n",
    "    *The number must be divisible by five\n",
    "    *If the number is greater than 150, then skip it and move to the next number\n",
    "    *If the number is greater than 500, then stop the loop\n"
   ]
  },
  {
   "cell_type": "code",
   "execution_count": 5,
   "metadata": {},
   "outputs": [
    {
     "name": "stdout",
     "output_type": "stream",
     "text": [
      "75\n",
      "180\n",
      "145\n"
     ]
    }
   ],
   "source": [
    "numbers = [12, 75, 150, 180, 145, 525, 50]\n",
    "\n",
    "\n",
    "for i in numbers:\n",
    "    if i == 150:\n",
    "        continue\n",
    "    elif i > 500:\n",
    "        break\n",
    "    elif i % 5 == 0:\n",
    "        print (i)"
   ]
  },
  {
   "cell_type": "markdown",
   "metadata": {},
   "source": [
    "#Exercise 7: Print the following pattern\n",
    "#Write a program to use for loop to print the following reverse number pattern"
   ]
  },
  {
   "cell_type": "code",
   "execution_count": 8,
   "metadata": {},
   "outputs": [
    {
     "name": "stdout",
     "output_type": "stream",
     "text": [
      "10 9 8 7 6 5 4 3 2 1 \n",
      "9 8 7 6 5 4 3 2 1 \n",
      "8 7 6 5 4 3 2 1 \n",
      "7 6 5 4 3 2 1 \n",
      "6 5 4 3 2 1 \n",
      "5 4 3 2 1 \n",
      "4 3 2 1 \n",
      "3 2 1 \n",
      "2 1 \n",
      "1 \n",
      "\n"
     ]
    }
   ],
   "source": [
    "n = 10\n",
    "k = 10\n",
    "\n",
    "for i in range(0, n+1):\n",
    "    for j in range(k-i, 0, -1):\n",
    "        print(j, end=\" \")\n",
    "    print(\"\")"
   ]
  },
  {
   "cell_type": "markdown",
   "metadata": {},
   "source": [
    "# Exercise 8: Print list in reverse order using a loop\n"
   ]
  },
  {
   "cell_type": "code",
   "execution_count": 20,
   "metadata": {},
   "outputs": [
    {
     "name": "stdout",
     "output_type": "stream",
     "text": [
      "35\n"
     ]
    }
   ],
   "source": [
    "list1 = [10, 20,35, 30, 40, 50]\n",
    "\n",
    "\n",
    "new_list1 = reversed(list1)\n",
    "\n",
    "for i in new_list1:\n",
    "    if i == 30:\n",
    "        continue\n",
    "    \n",
    "    elif i % 2 == 1:\n",
    "        print(i)"
   ]
  }
 ],
 "metadata": {
  "kernelspec": {
   "display_name": "mine",
   "language": "python",
   "name": "python3"
  },
  "language_info": {
   "codemirror_mode": {
    "name": "ipython",
    "version": 3
   },
   "file_extension": ".py",
   "mimetype": "text/x-python",
   "name": "python",
   "nbconvert_exporter": "python",
   "pygments_lexer": "ipython3",
   "version": "3.12.1"
  }
 },
 "nbformat": 4,
 "nbformat_minor": 2
}
