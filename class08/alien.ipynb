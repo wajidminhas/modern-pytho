{
 "cells": [
  {
   "cell_type": "code",
   "execution_count": 1,
   "metadata": {},
   "outputs": [
    {
     "name": "stdout",
     "output_type": "stream",
     "text": [
      "green\n",
      "5\n"
     ]
    }
   ],
   "source": [
    "alien_0 = {'color': 'green', 'points': 5}\n",
    "print(alien_0['color'])\n",
    "print(alien_0['points'])"
   ]
  },
  {
   "cell_type": "code",
   "execution_count": 2,
   "metadata": {},
   "outputs": [
    {
     "name": "stdout",
     "output_type": "stream",
     "text": [
      "{'color': 'green', 'points': 5}\n"
     ]
    }
   ],
   "source": [
    "import pandas as pd\n",
    "from typing import List, Dict, Any, Union\n",
    "import pprint\n",
    "\n",
    "key = Union[str, int]\n",
    "value = Union[str, int, float]\n",
    "\n",
    "alien_0 : Dict[key, value] = {\n",
    "    \"color\" : \"green\",\n",
    "    \"points\" : 5,\n",
    "}\n",
    "\n",
    "pprint.pprint(alien_0)"
   ]
  },
  {
   "cell_type": "code",
   "execution_count": 3,
   "metadata": {},
   "outputs": [
    {
     "name": "stdout",
     "output_type": "stream",
     "text": [
      "You just earned 5 points!\n"
     ]
    }
   ],
   "source": [
    "alien_0 : Dict[key, value] = {'color': 'green', 'points': 5}\n",
    "new_points = alien_0['points']\n",
    "print(f\"You just earned {new_points} points!\")"
   ]
  },
  {
   "cell_type": "code",
   "execution_count": 1,
   "metadata": {},
   "outputs": [
    {
     "name": "stdout",
     "output_type": "stream",
     "text": [
      "{'x_position': 1, 'y_position': 15, 'speed': 'slow', 'color': 'green'}\n",
      "New position: 1\n"
     ]
    }
   ],
   "source": [
    "from typing import List, Literal, Union, Dict, Any\n",
    "import pandas as pd\n",
    "import pprint\n",
    "\n",
    "key = Union[str, int]\n",
    "value = Union[str, int, float]\n",
    "\n",
    "alien_0 : Dict[key, Any ] = {\n",
    "    \"x_position\" : 0,\n",
    "    \"y_position\" : 15,\n",
    "    \"speed\" : \"slow\",\n",
    "    \"color\" : \"green\"\n",
    "}\n",
    "\n",
    "if alien_0[\"speed\"] == \"slow\" and alien_0[\"y_position\"] == 15:\n",
    "    x_increment = 1\n",
    "elif alien_0[\"speed\"] == \"medium\" and alien_0[\"y_position\"] == 20:\n",
    "    x_increment = 2\n",
    "elif alien_0[\"speed\"] == \"fast\" and alien_0[\"y_position\"] == 25:\n",
    "    x_increment = 3\n",
    "\n",
    "alien_0[\"x_position\"] += x_increment\n",
    "print(alien_0)\n",
    "print(f\"New position: {alien_0['x_position']}\")"
   ]
  },
  {
   "cell_type": "code",
   "execution_count": 4,
   "metadata": {},
   "outputs": [
    {
     "name": "stdout",
     "output_type": "stream",
     "text": [
      "Original position: 0\n",
      "New position: 2\n"
     ]
    }
   ],
   "source": [
    "alien_0 = {'x_position': 0, 'y_position': 25, 'speed': 'medium'}\n",
    "print(f\"Original position: {alien_0['x_position']}\")\n",
    "# Move the alien to the right.\n",
    "# Determine how far to move the alien based on its current speed.\n",
    "if alien_0['speed'] == 'slow':\n",
    " x_increment = 1\n",
    "elif alien_0['speed'] == 'medium':\n",
    " x_increment = 2\n",
    "else:\n",
    " # This must be a fast alien.\n",
    " x_increment = 3\n",
    "# The new position is the old position plus the increment.\n",
    "alien_0['x_position'] = alien_0['x_position'] + x_increment\n",
    "print(f\"New position: {alien_0['x_position']}\")"
   ]
  },
  {
   "cell_type": "code",
   "execution_count": 2,
   "metadata": {},
   "outputs": [
    {
     "name": "stdout",
     "output_type": "stream",
     "text": [
      "{'color': 'green', 'speed': 'medium', 'x_position': 2, 'y_position': 25}\n"
     ]
    }
   ],
   "source": [
    "alien_0 : Dict[key, Any] = {\n",
    "    \"x_position\" : 0,\n",
    "    \"y_position\" : 25,\n",
    "    \"speed\" : \"medium\",\n",
    "    \"color\" : \"green\"\n",
    "}\n",
    "\n",
    "# Assign integer values for speed categories\n",
    "speed_values = {\"slow\": 1, \"medium\": 2, \"fast\": 3}\n",
    "\n",
    "# Ensure speed is a valid key in alien_0\n",
    "if alien_0[\"speed\"] in speed_values:\n",
    "    x_increment = speed_values[alien_0[\"speed\"]]\n",
    "else:\n",
    "    # Default to medium speed if the provided speed is not recognized\n",
    "    x_increment = speed_values[\"medium\"]\n",
    "\n",
    "alien_0[\"x_position\"] += x_increment\n",
    "\n",
    "pprint.pprint(alien_0)"
   ]
  }
 ],
 "metadata": {
  "kernelspec": {
   "display_name": "mine",
   "language": "python",
   "name": "python3"
  },
  "language_info": {
   "codemirror_mode": {
    "name": "ipython",
    "version": 3
   },
   "file_extension": ".py",
   "mimetype": "text/x-python",
   "name": "python",
   "nbconvert_exporter": "python",
   "pygments_lexer": "ipython3",
   "version": "3.12.1"
  }
 },
 "nbformat": 4,
 "nbformat_minor": 2
}
