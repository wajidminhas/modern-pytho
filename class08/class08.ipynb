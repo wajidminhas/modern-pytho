{
 "cells": [
  {
   "cell_type": "code",
   "execution_count": 14,
   "metadata": {},
   "outputs": [
    {
     "name": "stdout",
     "output_type": "stream",
     "text": [
      "['clear', 'copy', 'fromkeys', 'get', 'items', 'keys', 'pop', 'popitem', 'setdefault', 'update', 'values']\n",
      "before {'name': 'wajid shabbir', 'education': 'M.A.Edu', 'father_name': 'shabbir hussain', 'percentage': 67.6}\n",
      "after {'name': 'wajid shabbir', 'education': 'M.A.Edu', 'father_name': 'shabbir hussain', 'percentage': 67.6}\n",
      "{'name': 'wajid shabbir', 'education': 'M.A.Edu', 'father_name': 'shabbir hussain'}\n"
     ]
    }
   ],
   "source": [
    "from typing import Dict, Union\n",
    "import pprint\n",
    "\n",
    "key = Union[int, str, set]       # custom type created\n",
    "value = Union[int, str, set, tuple, list, dict, float]\n",
    "data : Dict[key, value] = {\n",
    "                \"name\" :\"wajid shabbir\",\n",
    "                \"education\": \"M.A.Edu\",\n",
    "                \"father_name\": \"shabbir hussain\",\n",
    "                \"father_name\": \"shabbir hussain\",\n",
    "                \"percentage\" : 67.6\n",
    "}\n",
    "\n",
    "method : list[str] = [m for m in dir(data) if \"__\" not in m]\n",
    "print(method)\n",
    "\n",
    "print(\"before\", data)\n",
    "# del data                 # object will be deleted for dictionary but data will remain exist\n",
    "print(\"after\", data)\n",
    "\n",
    "a = data.popitem()     \n",
    "# print(a)\n",
    "print(data)"
   ]
  },
  {
   "cell_type": "markdown",
   "metadata": {},
   "source": [
    "# data.clear()           \n",
    "* all data will be clrear or erased for dictionary but object will remain exist\n"
   ]
  },
  {
   "cell_type": "code",
   "execution_count": 20,
   "metadata": {},
   "outputs": [
    {
     "name": "stdout",
     "output_type": "stream",
     "text": [
      "['clear', 'copy', 'fromkeys', 'get', 'items', 'keys', 'pop', 'popitem', 'setdefault', 'update', 'values']\n",
      "{'education': 'M.A.Edu',\n",
      " 'father_name': 'shabbir hussain',\n",
      " 'name': 'wajid shabbir',\n",
      " 'percentage': 67.6}\n",
      "after {}\n"
     ]
    }
   ],
   "source": [
    "from typing import Dict, Union\n",
    "import pprint\n",
    "\n",
    "key = Union[int, str, set]       # custom type created\n",
    "value = Union[int, str, set, tuple, list, dict, float]\n",
    "data : Dict[key, value] = {\n",
    "                \"name\" :\"wajid shabbir\",\n",
    "                \"education\": \"M.A.Edu\",\n",
    "                \"father_name\": \"shabbir hussain\",\n",
    "                \"percentage\" : 67.6\n",
    "}\n",
    "\n",
    "method : list[str] = [m for m in dir(data) if \"__\" not in m]\n",
    "print(method)\n",
    "\n",
    "pprint.pprint(data)\n",
    "# print(data.get(\"name\"))\n",
    "data.clear()\n",
    "print(\"after\", data)"
   ]
  },
  {
   "cell_type": "markdown",
   "metadata": {},
   "source": [
    "# del data                \n",
    "* object will be deleted for dictionary but data will remain exist\n"
   ]
  },
  {
   "cell_type": "code",
   "execution_count": 22,
   "metadata": {},
   "outputs": [
    {
     "name": "stdout",
     "output_type": "stream",
     "text": [
      "['clear', 'copy', 'fromkeys', 'get', 'items', 'keys', 'pop', 'popitem', 'setdefault', 'update', 'values']\n",
      "{'education': 'M.A.Edu',\n",
      " 'father_name': 'shabbir hussain',\n",
      " 'name': 'wajid shabbir',\n",
      " 'percentage': 67.6}\n",
      "{'name': 'wajid shabbir', 'education': 'M.A.Edu', 'father_name': 'shabbir hussain', 'percentage': 67.6}\n"
     ]
    },
    {
     "ename": "NameError",
     "evalue": "name 'data' is not defined",
     "output_type": "error",
     "traceback": [
      "\u001b[1;31m---------------------------------------------------------------------------\u001b[0m",
      "\u001b[1;31mNameError\u001b[0m                                 Traceback (most recent call last)",
      "Cell \u001b[1;32mIn[22], line 19\u001b[0m\n\u001b[0;32m     17\u001b[0m \u001b[38;5;28mprint\u001b[39m(data)\n\u001b[0;32m     18\u001b[0m \u001b[38;5;28;01mdel\u001b[39;00m data\n\u001b[1;32m---> 19\u001b[0m \u001b[38;5;28mprint\u001b[39m(\u001b[38;5;124m\"\u001b[39m\u001b[38;5;124mafter\u001b[39m\u001b[38;5;124m\"\u001b[39m, \u001b[43mdata\u001b[49m)\n",
      "\u001b[1;31mNameError\u001b[0m: name 'data' is not defined"
     ]
    }
   ],
   "source": [
    "from typing import Dict, Union\n",
    "import pprint\n",
    "\n",
    "key = Union[int, str, set]       # custom type created\n",
    "value = Union[int, str, set, tuple, list, dict, float]\n",
    "data : Dict[key, value] = {\n",
    "                \"name\" :\"wajid shabbir\",\n",
    "                \"education\": \"M.A.Edu\",\n",
    "                \"father_name\": \"shabbir hussain\",\n",
    "                \"percentage\" : 67.6\n",
    "}\n",
    "\n",
    "method : list[str] = [m for m in dir(data) if \"__\" not in m]\n",
    "print(method)\n",
    "\n",
    "pprint.pprint(data)\n",
    "print(data)\n",
    "del data\n",
    "print(\"after\", data)"
   ]
  },
  {
   "cell_type": "markdown",
   "metadata": {},
   "source": [
    "# pop(\"name\")       \n",
    " pop will take argument to delet \n"
   ]
  },
  {
   "cell_type": "code",
   "execution_count": 25,
   "metadata": {},
   "outputs": [
    {
     "name": "stdout",
     "output_type": "stream",
     "text": [
      "['clear', 'copy', 'fromkeys', 'get', 'items', 'keys', 'pop', 'popitem', 'setdefault', 'update', 'values']\n",
      "{'education': 'M.A.Edu',\n",
      " 'father_name': 'shabbir hussain',\n",
      " 'name': 'wajid shabbir',\n",
      " 'percentage': 67.6}\n",
      "after {'education': 'M.A.Edu', 'father_name': 'shabbir hussain', 'percentage': 67.6}\n"
     ]
    }
   ],
   "source": [
    "from typing import Dict, Union\n",
    "import pprint\n",
    "\n",
    "key = Union[int, str, set]       # custom type created\n",
    "value = Union[int, str, set, tuple, list, dict, float]\n",
    "data : Dict[key, value] = {\n",
    "                \"name\" :\"wajid shabbir\",\n",
    "                \"education\": \"M.A.Edu\",\n",
    "                \"father_name\": \"shabbir hussain\",\n",
    "                \"percentage\" : 67.6\n",
    "}\n",
    "\n",
    "method : list[str] = [m for m in dir(data) if \"__\" not in m]\n",
    "print(method)\n",
    "\n",
    "pprint.pprint(data)\n",
    "data.pop(\"name\")\n",
    "print(\"after\",data)"
   ]
  },
  {
   "cell_type": "markdown",
   "metadata": {},
   "source": [
    " # pop.item()\n",
    " # it will delete last item from dictionary     \n",
    " # popitem will delete last item from dictionary"
   ]
  },
  {
   "cell_type": "code",
   "execution_count": 27,
   "metadata": {},
   "outputs": [
    {
     "name": "stdout",
     "output_type": "stream",
     "text": [
      "['clear', 'copy', 'fromkeys', 'get', 'items', 'keys', 'pop', 'popitem', 'setdefault', 'update', 'values']\n",
      "{'education': 'M.A.Edu',\n",
      " 'father_name': 'shabbir hussain',\n",
      " 'name': 'wajid shabbir',\n",
      " 'percentage': 67.6}\n",
      "after {'name': 'wajid shabbir', 'education': 'M.A.Edu', 'father_name': 'shabbir hussain'}\n"
     ]
    }
   ],
   "source": [
    "from typing import Dict, Union\n",
    "import pprint\n",
    "\n",
    "key = Union[int, str, set]       # custom type created\n",
    "value = Union[int, str, set, tuple, list, dict, float]\n",
    "data : Dict[key, value] = {\n",
    "                \"name\" :\"wajid shabbir\",\n",
    "                \"education\": \"M.A.Edu\",\n",
    "                \"father_name\": \"shabbir hussain\",\n",
    "                \"percentage\" : 67.6\n",
    "}\n",
    "\n",
    "method : list[str] = [m for m in dir(data) if \"__\" not in m]\n",
    "print(method)\n",
    "\n",
    "pprint.pprint(data)\n",
    "data.popitem()\n",
    "print(\"after\",data)"
   ]
  },
  {
   "cell_type": "markdown",
   "metadata": {},
   "source": [
    "# .get()\n",
    "# to prevent app crashing at runtime"
   ]
  },
  {
   "cell_type": "code",
   "execution_count": 29,
   "metadata": {},
   "outputs": [
    {
     "name": "stdout",
     "output_type": "stream",
     "text": [
      "['clear', 'copy', 'fromkeys', 'get', 'items', 'keys', 'pop', 'popitem', 'setdefault', 'update', 'values']\n",
      "{'education': 'M.A.Edu',\n",
      " 'father_name': 'shabbir hussain',\n",
      " 'name': 'wajid shabbir',\n",
      " 'percentage': 67.6}\n",
      "not found\n",
      "after \t {'name': 'wajid shabbir', 'education': 'M.A.Edu', 'father_name': 'shabbir hussain', 'percentage': 67.6}\n"
     ]
    }
   ],
   "source": [
    "from typing import Dict, Union\n",
    "import pprint\n",
    "\n",
    "key = Union[int, str, set]       # custom type created\n",
    "value = Union[int, str, set, tuple, list, dict, float]\n",
    "data : Dict[key, value] = {\n",
    "                \"name\" :\"wajid shabbir\",\n",
    "                \"education\": \"M.A.Edu\",\n",
    "                \"father_name\": \"shabbir hussain\",\n",
    "                \"percentage\" : 67.6\n",
    "}\n",
    "\n",
    "method : list[str] = [m for m in dir(data) if \"__\" not in m]\n",
    "print(method)\n",
    "\n",
    "pprint.pprint(data)\n",
    "a  = data.get(\"pakistan\", \"not found\")\n",
    "print(a)\n",
    "print(\"after \\t\", data)"
   ]
  },
  {
   "cell_type": "markdown",
   "metadata": {},
   "source": [
    "#   set default method\n",
    "* if key not found then concerning key will be add with non value and later we can add value in \n",
    "* particuler key."
   ]
  },
  {
   "cell_type": "code",
   "execution_count": 33,
   "metadata": {},
   "outputs": [
    {
     "name": "stdout",
     "output_type": "stream",
     "text": [
      "['clear', 'copy', 'fromkeys', 'get', 'items', 'keys', 'pop', 'popitem', 'setdefault', 'update', 'values']\n",
      "{'education': 'M.A.Edu',\n",
      " 'father_name': 'shabbir hussain',\n",
      " 'name': 'wajid shabbir',\n",
      " 'percentage': 67.6}\n",
      "not found\n",
      "{'education': 'M.A.Edu',\n",
      " 'father_name': 'shabbir hussain',\n",
      " 'name': 'wajid shabbir',\n",
      " 'pakistan': 'Empty value',\n",
      " 'percentage': 67.6}\n"
     ]
    }
   ],
   "source": [
    "from typing import Dict, Union\n",
    "import pprint\n",
    "\n",
    "key = Union[int, str, set]       # custom type created\n",
    "value = Union[int, str, set, tuple, list, dict, float]\n",
    "data : Dict[key, value] = {\n",
    "                \"name\" :\"wajid shabbir\",\n",
    "                \"education\": \"M.A.Edu\",\n",
    "                \"father_name\": \"shabbir hussain\",\n",
    "                \"percentage\" : 67.6\n",
    "}\n",
    "\n",
    "method : list[str] = [m for m in dir(data) if \"__\" not in m]\n",
    "print(method)\n",
    "\n",
    "pprint.pprint(data)\n",
    "a  = data.get(\"pakistan\", \"not found\")\n",
    "print(a)\n",
    "data.setdefault(\"pakistan\", \"Empty value\")\n",
    "pprint.pprint(data)"
   ]
  },
  {
   "cell_type": "markdown",
   "metadata": {},
   "source": [
    "# update method "
   ]
  },
  {
   "cell_type": "code",
   "execution_count": 36,
   "metadata": {},
   "outputs": [
    {
     "name": "stdout",
     "output_type": "stream",
     "text": [
      "{'education': 'M.A.Edu',\n",
      " 'father_name': 'shabbir hussain',\n",
      " 'name': 'wajid shabbir',\n",
      " 'percentage': 67.6}\n"
     ]
    },
    {
     "data": {
      "text/plain": [
       "{'name': 'sajid hussain shabbir',\n",
       " 'education': 'M.A.Edu',\n",
       " 'father_name': 'shabbir hussain',\n",
       " 'percentage': 67.6,\n",
       " 'age': 40,\n",
       " 'height': 5.6}"
      ]
     },
     "metadata": {},
     "output_type": "display_data"
    }
   ],
   "source": [
    "from typing import Dict, Union\n",
    "import pprint\n",
    "\n",
    "key = Union[int, str, set]       # custom type created\n",
    "value = Union[int, str, set, tuple, list, dict, float]\n",
    "data : Dict[key, value] = {\n",
    "                \"name\" :\"wajid shabbir\",\n",
    "                \"education\": \"M.A.Edu\",\n",
    "                \"father_name\": \"shabbir hussain\",\n",
    "                \"percentage\" : 67.6\n",
    "}\n",
    "data1 : Dict[key, value] = {\n",
    "                \"name\" :\"sajid hussain shabbir\", \n",
    "                \"age\" : 40,\n",
    "                \"height\" : 5.6,\n",
    "}\n",
    "pprint.pprint(data)\n",
    "\n",
    "data.update(data1)\n",
    "display(data)"
   ]
  }
 ],
 "metadata": {
  "kernelspec": {
   "display_name": "mine",
   "language": "python",
   "name": "python3"
  },
  "language_info": {
   "codemirror_mode": {
    "name": "ipython",
    "version": 3
   },
   "file_extension": ".py",
   "mimetype": "text/x-python",
   "name": "python",
   "nbconvert_exporter": "python",
   "pygments_lexer": "ipython3",
   "version": "3.12.1"
  }
 },
 "nbformat": 4,
 "nbformat_minor": 2
}
