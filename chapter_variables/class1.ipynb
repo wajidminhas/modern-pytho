{
 "cells": [
  {
   "cell_type": "code",
   "execution_count": 1,
   "metadata": {},
   "outputs": [],
   "source": [
    "greet_message : str = \"Hello World\""
   ]
  },
  {
   "cell_type": "code",
   "execution_count": 2,
   "metadata": {},
   "outputs": [
    {
     "name": "stdout",
     "output_type": "stream",
     "text": [
      "Pakistan\n",
      "<class 'str'>\n",
      "127511300719536\n",
      "['capitalize', 'casefold', 'center', 'count', 'encode', 'endswith', 'expandtabs', 'find', 'format', 'format_map', 'index', 'isalnum', 'isalpha', 'isascii', 'isdecimal', 'isdigit', 'isidentifier', 'islower', 'isnumeric', 'isprintable', 'isspace', 'istitle', 'isupper', 'join', 'ljust', 'lower', 'lstrip', 'maketrans', 'partition', 'removeprefix', 'removesuffix', 'replace', 'rfind', 'rindex', 'rjust', 'rpartition', 'rsplit', 'rstrip', 'split', 'splitlines', 'startswith', 'strip', 'swapcase', 'title', 'translate', 'upper', 'zfill']\n"
     ]
    }
   ],
   "source": [
    "name : str = \"Pakistan\"\n",
    "print(name) # print\n",
    "print(type(name)) # type\n",
    "print(id(name)) # physcial address\n",
    "print([i for i in dir(name) if \"__\" not in i]) # methods and attributes"
   ]
  },
  {
   "cell_type": "code",
   "execution_count": 11,
   "metadata": {},
   "outputs": [
    {
     "name": "stdout",
     "output_type": "stream",
     "text": [
      "Hello World\n",
      "Hello world\n",
      "HELLO WORLD\n",
      "('Hello ', 'World', '')\n",
      "6\n",
      "Hello Universe\n",
      "['Hello', 'World']\n",
      "Hello World\n",
      "Hello World\n"
     ]
    }
   ],
   "source": [
    "print(greet_message)\n",
    "print(greet_message.capitalize())\n",
    "print(greet_message.upper())\n",
    "print(greet_message.partition(\"World\"))\n",
    "print(greet_message.find(\"World\"))\n",
    "print(greet_message.replace(\"World\", \"Universe\"))\n",
    "print(greet_message.split())\n",
    "print(greet_message.strip())\n",
    "print(greet_message.title())"
   ]
  },
  {
   "cell_type": "code",
   "execution_count": 19,
   "metadata": {},
   "outputs": [
    {
     "name": "stdout",
     "output_type": "stream",
     "text": [
      "WAJID SHABBIR\n"
     ]
    }
   ],
   "source": [
    "def user_name(fname: str, lname: str) -> str:\n",
    "    first_name = fname\n",
    "    last_name = lname\n",
    "    full_name = first_name + \" \" + last_name\n",
    "    return full_name.upper()\n",
    "\n",
    "\n",
    "print(user_name(\"wajid\",\"shabbir\"))"
   ]
  },
  {
   "cell_type": "code",
   "execution_count": 26,
   "metadata": {},
   "outputs": [
    {
     "name": "stdout",
     "output_type": "stream",
     "text": [
      "Hello Mr \twajid Shabbir\n",
      "Hello Mr \n",
      "'wajid Shabbir'\n",
      "Hello Mr \n",
      "wajid Shabbir\n",
      "Hello Mr \n",
      "'wajid Shabbir'\n"
     ]
    }
   ],
   "source": [
    "from curses import longname\n",
    "\n",
    "\n",
    "fname = \"wajid\"\n",
    "lname = \"Shabbir\"\n",
    "full_name = fname + \" \" + lname\n",
    "\n",
    "print(f\"Hello Mr \\t{full_name}\")\n",
    "print(f\"Hello Mr \\n{full_name!r}\")\n",
    "print(f\"Hello Mr \\n{full_name!s}\")\n",
    "print(f\"Hello Mr \\n{full_name!a}\")"
   ]
  },
  {
   "cell_type": "code",
   "execution_count": 28,
   "metadata": {},
   "outputs": [
    {
     "name": "stdout",
     "output_type": "stream",
     "text": [
      "Pakistan:\n",
      "\tPunjab\n",
      "\tSindh\n",
      "\tBalochistan\n",
      "\tKPK\n",
      "\tAJK\n",
      "\tGB\n"
     ]
    }
   ],
   "source": [
    "print(\"Pakistan:\\n\\tPunjab\\n\\tSindh\\n\\tBalochistan\\n\\tKPK\\n\\tAJK\\n\\tGB\")"
   ]
  },
  {
   "cell_type": "code",
   "execution_count": 32,
   "metadata": {},
   "outputs": [
    {
     "name": "stdout",
     "output_type": "stream",
     "text": [
      "Programming Languages:\n",
      "\t\tTypeScript\n",
      "\t\tPython\n",
      "\t\tJava\n",
      "\t\tC++\n",
      "\t\tC#\n"
     ]
    }
   ],
   "source": [
    "print(\"Programming Languages:\\n\\t\\tTypeScript\\n\\t\\tPython\\n\\t\\tJava\\n\\t\\tC++\\n\\t\\tC#\")"
   ]
  },
  {
   "cell_type": "code",
   "execution_count": 40,
   "metadata": {},
   "outputs": [
    {
     "name": "stdout",
     "output_type": "stream",
     "text": [
      "['Minhas']\n",
      "Nawfal Minhas\n",
      "Nawfal Minhas   \n",
      "Nawfal Minhas   \n",
      "['Nawfal', 'Minhas']\n"
     ]
    }
   ],
   "source": [
    "fname = \"Nawfal Minhas   \"\n",
    "lname = \"Minhas\"\n",
    "print(lname.split())\n",
    "print(fname.rstrip())\n",
    "print(fname.lstrip())\n",
    "print(fname)\n",
    "print(fname.split())"
   ]
  },
  {
   "cell_type": "code",
   "execution_count": 44,
   "metadata": {},
   "outputs": [
    {
     "name": "stdout",
     "output_type": "stream",
     "text": [
      "https://nostarch.com\n",
      "Nostarch.com\n"
     ]
    }
   ],
   "source": [
    "nostarch_url = 'https://nostarch.com'\n",
    "nostarch_url.removeprefix('https://')\n",
    "simple_url = nostarch_url.removeprefix('https://')\n",
    "print(nostarch_url)\n",
    "print(simple_url.capitalize())"
   ]
  },
  {
   "cell_type": "code",
   "execution_count": 45,
   "metadata": {},
   "outputs": [
    {
     "name": "stdout",
     "output_type": "stream",
     "text": [
      "Albert Einstein once said, \"A person who never made a mistake never tried anything new.\"\n"
     ]
    }
   ],
   "source": [
    "famous_qoute = 'Albert Einstein once said, \"A person who never made a mistake never tried anything new.\"'\n",
    "\n",
    "print(famous_qoute)"
   ]
  },
  {
   "cell_type": "code",
   "execution_count": 46,
   "metadata": {},
   "outputs": [
    {
     "name": "stdout",
     "output_type": "stream",
     "text": [
      "Muhammad Ali Jinnha : 'There are two powers in the world; one is the sword and the other is the pen. \n",
      "There is a great competition and rivalry between the two. \n",
      "There is a third power stronger than both, that of the women. \n",
      "Think a hundred times before you take a decision, but once that decision is taken, stand by it as one man.'\n"
     ]
    }
   ],
   "source": [
    "famouse_person = \"Muhammad Ali Jinnha\"\n",
    "\n",
    "qoute = f\"{famouse_person} : 'There are two powers in the world; one is the sword and the other is the pen. \\nThere is a great competition and rivalry between the two. \\nThere is a third power stronger than both, that of the women. \\nThink a hundred times before you take a decision, but once that decision is taken, stand by it as one man.'\"\n",
    "\n",
    "print(qoute)"
   ]
  },
  {
   "cell_type": "code",
   "execution_count": 50,
   "metadata": {},
   "outputs": [
    {
     "name": "stdout",
     "output_type": "stream",
     "text": [
      "\tHello World\n",
      "Hello World\n",
      "Hello World\n",
      "\tHello World\n"
     ]
    }
   ],
   "source": [
    "message : str = \"\\tHello World\"\n",
    "\n",
    "print(message)\n",
    "print(message.strip())\n",
    "print(message.lstrip())\n",
    "print(message)"
   ]
  },
  {
   "cell_type": "code",
   "execution_count": 52,
   "metadata": {},
   "outputs": [
    {
     "name": "stdout",
     "output_type": "stream",
     "text": [
      "python_notes\n"
     ]
    }
   ],
   "source": [
    "filename = \"python_notes.txt\"\n",
    "\n",
    "print(filename.removesuffix(\".txt\"))"
   ]
  },
  {
   "cell_type": "markdown",
   "metadata": {},
   "source": [
    "#NUMBERS"
   ]
  },
  {
   "cell_type": "code",
   "execution_count": 54,
   "metadata": {},
   "outputs": [
    {
     "name": "stdout",
     "output_type": "stream",
     "text": [
      "8\n",
      "6\n",
      "18\n",
      "3.0\n",
      "3\n"
     ]
    }
   ],
   "source": [
    "a : int =  3 + 5\n",
    "\n",
    "b : int = 10 - 4\n",
    "\n",
    "c : int = 3 * 6\n",
    "\n",
    "d : float = 9 / 3\n",
    "\n",
    "e : int = 9 // 3\n",
    "\n",
    "print(a)\n",
    "print(b)\n",
    "print(c)\n",
    "print(d)\n",
    "print(e)"
   ]
  },
  {
   "cell_type": "code",
   "execution_count": 60,
   "metadata": {},
   "outputs": [
    {
     "name": "stdout",
     "output_type": "stream",
     "text": [
      "86\n",
      "64\n",
      "9.0\n",
      "86\n"
     ]
    }
   ],
   "source": [
    "a = 3 ** 4 + 5\n",
    "\n",
    "b : int =  4 ** 3\n",
    "\n",
    "c : float = 3 * 6 / 2\n",
    "\n",
    "print(a)\n",
    "print(b)\n",
    "print(c)\n",
    "\n",
    "print(a)"
   ]
  }
 ],
 "metadata": {
  "kernelspec": {
   "display_name": "mine",
   "language": "python",
   "name": "python3"
  },
  "language_info": {
   "codemirror_mode": {
    "name": "ipython",
    "version": 3
   },
   "file_extension": ".py",
   "mimetype": "text/x-python",
   "name": "python",
   "nbconvert_exporter": "python",
   "pygments_lexer": "ipython3",
   "version": "3.10.12"
  }
 },
 "nbformat": 4,
 "nbformat_minor": 2
}
